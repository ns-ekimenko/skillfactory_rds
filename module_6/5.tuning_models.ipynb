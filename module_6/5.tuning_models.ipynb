{
 "cells": [
  {
   "cell_type": "code",
   "execution_count": 1,
   "metadata": {},
   "outputs": [],
   "source": [
    "import numpy as np\n",
    "import pandas as pd\n",
    "import seaborn as sns\n",
    "import matplotlib.pyplot as plt\n",
    "import json\n",
    "import pickle\n",
    "from functools import partial\n",
    "\n",
    "from sklearn.model_selection import KFold, cross_val_score, train_test_split, GridSearchCV\n",
    "from sklearn.metrics import make_scorer\n",
    "from sklearn.ensemble import RandomForestRegressor\n",
    "from sklearn.preprocessing import StandardScaler, LabelEncoder\n",
    "from sklearn.linear_model import Ridge, Lasso, LinearRegression\n",
    "from catboost import CatBoostRegressor"
   ]
  },
  {
   "cell_type": "code",
   "execution_count": 3,
   "metadata": {},
   "outputs": [],
   "source": [
    "#Сделаем настройки\n",
    "pd.options.display.float_format = '{:,.2f}'.format\n",
    "pd.set_option('display.max_columns', None)\n",
    "plt.rcParams['figure.figsize'] = 12, 8\n",
    "RANDOM_STATE=43"
   ]
  },
  {
   "cell_type": "code",
   "execution_count": 4,
   "metadata": {},
   "outputs": [
    {
     "name": "stderr",
     "output_type": "stream",
     "text": [
      "C:\\Soft\\Anaconda\\lib\\site-packages\\IPython\\core\\interactiveshell.py:3063: DtypeWarning: Columns (21) have mixed types.Specify dtype option on import or set low_memory=False.\n",
      "  interactivity=interactivity, compiler=compiler, result=result)\n"
     ]
    }
   ],
   "source": [
    "df = pd.read_csv('data2.csv')\n",
    "df_train = df[df.is_train==1]"
   ]
  },
  {
   "cell_type": "code",
   "execution_count": 5,
   "metadata": {},
   "outputs": [
    {
     "data": {
      "text/plain": [
       "(70896, 43)"
      ]
     },
     "execution_count": 5,
     "metadata": {},
     "output_type": "execute_result"
    }
   ],
   "source": [
    "df.shape"
   ]
  },
  {
   "cell_type": "markdown",
   "metadata": {},
   "source": [
    "# Определим нужные нам функции"
   ]
  },
  {
   "cell_type": "code",
   "execution_count": 6,
   "metadata": {},
   "outputs": [],
   "source": [
    "def mape(y_true, y_pred):\n",
    "    \"\"\"оценка MEAN ABSOLUTE PERCENTAGE ERROR, которая используется в соревновании\"\"\"\n",
    "    return np.mean(np.abs((y_true - y_pred) / y_true)) * 100\n",
    "\n",
    "\n",
    "def score_model(model, X, y):\n",
    "    \"\"\"Оцениваем модель и данные на трех фолдах. Выводим средюю оценку, и оценки на фолдах\"\"\"\n",
    "    kf = KFold(n_splits=3, shuffle=True, random_state=RANDOM_STATE)\n",
    "    cv_results = cross_val_score(\n",
    "        model, X, y, cv=kf, n_jobs=-1, scoring=make_scorer(mape))\n",
    "    print(\"#\"*100)\n",
    "    print(model)\n",
    "    print(\"#\"*100)\n",
    "    print(f'mean_result: {np.mean(cv_results)} ({cv_results})')\n",
    "    print(\"#\"*100)\n",
    "\n",
    "\n",
    "def make_submit(model, X_test, submit_file='predict.csv'):\n",
    "    \"\"\"запишем предсказание модели в файл, готовый к отправке на kaggle\"\"\"\n",
    "    pred = np.round(model.predict(X_test))\n",
    "    answer = pd.Series(pred, index=df[~df.is_train].sell_id, name='price')\n",
    "    answer.to_csv(submit_file, index_label='sell_id')\n",
    "\n",
    "\n",
    "def prepare_data(categorical_columns: list, numerical_columns: list):\n",
    "    \"\"\"Вытащим требуемые данные из переменной df\n",
    "    категориальные применим dummy кодирование\n",
    "    числовые Шкалирование\"\"\"\n",
    "    X = df.loc[:, categorical_columns+numerical_columns+['is_train']]\n",
    "\n",
    "    X = pd.get_dummies(X, columns=categorical_columns)\n",
    "    X[numerical_columns] = StandardScaler().fit_transform(X[numerical_columns])\n",
    "    \n",
    "    X_train = X[X.is_train == 1].drop('is_train', axis=1)\n",
    "    X_test = X[X.is_train == 0].drop('is_train', axis=1)\n",
    "\n",
    "    y = df[df.is_train].price\n",
    "\n",
    "    return X_train, X_test, y"
   ]
  },
  {
   "cell_type": "markdown",
   "metadata": {},
   "source": [
    "# Подготовим тренировочные и тестовые наборы \n",
    "\n",
    "Состав колонок как в предыдущей части"
   ]
  },
  {
   "cell_type": "code",
   "execution_count": 7,
   "metadata": {},
   "outputs": [],
   "source": [
    "cat_cols = ['bodyType', 'brand', 'fuelType', 'color', 'model_name',\n",
    "            'vehicleTransmission', 'vendor', 'ПТС', 'Владельцы', 'Привод', 'Руль'] \n",
    "num_cols = ['productionDate', 'numberOfDoors',\n",
    "            'enginePower_log', 'mileage_log', 'diff_date_model_production']"
   ]
  },
  {
   "cell_type": "code",
   "execution_count": 8,
   "metadata": {},
   "outputs": [],
   "source": [
    "X_train, X_test, y = prepare_data(cat_cols, num_cols)"
   ]
  },
  {
   "cell_type": "markdown",
   "metadata": {},
   "source": [
    "# Подбор параметров модели"
   ]
  },
  {
   "cell_type": "markdown",
   "metadata": {},
   "source": [
    "Лучший результат показал случайный лес. Давайте попробуем как будет он себя вести, при изменени его деволтных параметров"
   ]
  },
  {
   "cell_type": "markdown",
   "metadata": {},
   "source": [
    "Хотел взять критерий MAE для  модели, но она очень долго тренирутеся, даже если поставить n_estimators=10"
   ]
  },
  {
   "cell_type": "code",
   "execution_count": 9,
   "metadata": {},
   "outputs": [],
   "source": [
    "rf_model=RandomForestRegressor(random_state=RANDOM_STATE, n_estimators=100)"
   ]
  },
  {
   "cell_type": "code",
   "execution_count": 10,
   "metadata": {},
   "outputs": [],
   "source": [
    "param_grid = { \n",
    "    'max_features': ['auto', 'sqrt', 'log2'],\n",
    "    'max_depth' : [4,6, None],\n",
    "}"
   ]
  },
  {
   "cell_type": "code",
   "execution_count": 12,
   "metadata": {},
   "outputs": [],
   "source": [
    "CV_rf = GridSearchCV(rf_model, param_grid, cv=3)\n"
   ]
  },
  {
   "cell_type": "code",
   "execution_count": null,
   "metadata": {},
   "outputs": [],
   "source": [
    "%%time\n",
    "CV_rf.fit(X_train, y)"
   ]
  },
  {
   "cell_type": "code",
   "execution_count": null,
   "metadata": {},
   "outputs": [],
   "source": [
    "CV_rfc.best_params_"
   ]
  },
  {
   "cell_type": "code",
   "execution_count": null,
   "metadata": {},
   "outputs": [],
   "source": []
  }
 ],
 "metadata": {
  "kernelspec": {
   "display_name": "Python 3",
   "language": "python",
   "name": "python3"
  },
  "language_info": {
   "codemirror_mode": {
    "name": "ipython",
    "version": 3
   },
   "file_extension": ".py",
   "mimetype": "text/x-python",
   "name": "python",
   "nbconvert_exporter": "python",
   "pygments_lexer": "ipython3",
   "version": "3.7.6"
  },
  "toc": {
   "base_numbering": 1,
   "nav_menu": {},
   "number_sections": true,
   "sideBar": true,
   "skip_h1_title": false,
   "title_cell": "Table of Contents",
   "title_sidebar": "Contents",
   "toc_cell": false,
   "toc_position": {},
   "toc_section_display": true,
   "toc_window_display": false
  },
  "varInspector": {
   "cols": {
    "lenName": 16,
    "lenType": 16,
    "lenVar": 40
   },
   "kernels_config": {
    "python": {
     "delete_cmd_postfix": "",
     "delete_cmd_prefix": "del ",
     "library": "var_list.py",
     "varRefreshCmd": "print(var_dic_list())"
    },
    "r": {
     "delete_cmd_postfix": ") ",
     "delete_cmd_prefix": "rm(",
     "library": "var_list.r",
     "varRefreshCmd": "cat(var_dic_list()) "
    }
   },
   "types_to_exclude": [
    "module",
    "function",
    "builtin_function_or_method",
    "instance",
    "_Feature"
   ],
   "window_display": false
  }
 },
 "nbformat": 4,
 "nbformat_minor": 4
}
