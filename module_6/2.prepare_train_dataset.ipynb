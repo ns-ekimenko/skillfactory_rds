{
 "cells": [
  {
   "cell_type": "code",
   "execution_count": 2,
   "metadata": {},
   "outputs": [],
   "source": [
    "import pandas as pd\n",
    "import numpy as np\n",
    "import pandas_profiling\n",
    "import os"
   ]
  },
  {
   "cell_type": "code",
   "execution_count": 3,
   "metadata": {},
   "outputs": [],
   "source": [
    "df_train = []\n",
    "for file_name in os.listdir('train'):\n",
    "    df_train.append(pd.read_csv(os.path.join('train',file_name)))\n",
    "df_train = pd.concat(df_train)"
   ]
  },
  {
   "cell_type": "code",
   "execution_count": 4,
   "metadata": {},
   "outputs": [],
   "source": [
    "df = df_train.copy() # так привычнее"
   ]
  },
  {
   "cell_type": "code",
   "execution_count": 5,
   "metadata": {},
   "outputs": [
    {
     "data": {
      "text/plain": [
       "(363387, 34)"
      ]
     },
     "execution_count": 5,
     "metadata": {},
     "output_type": "execute_result"
    }
   ],
   "source": [
    "df.shape"
   ]
  },
  {
   "cell_type": "code",
   "execution_count": 6,
   "metadata": {},
   "outputs": [
    {
     "data": {
      "text/html": [
       "<div>\n",
       "<style scoped>\n",
       "    .dataframe tbody tr th:only-of-type {\n",
       "        vertical-align: middle;\n",
       "    }\n",
       "\n",
       "    .dataframe tbody tr th {\n",
       "        vertical-align: top;\n",
       "    }\n",
       "\n",
       "    .dataframe thead th {\n",
       "        text-align: right;\n",
       "    }\n",
       "</style>\n",
       "<table border=\"1\" class=\"dataframe\">\n",
       "  <thead>\n",
       "    <tr style=\"text-align: right;\">\n",
       "      <th></th>\n",
       "      <th>bodyType</th>\n",
       "      <th>brand</th>\n",
       "      <th>car_url</th>\n",
       "      <th>color</th>\n",
       "      <th>complectation_dict</th>\n",
       "      <th>description</th>\n",
       "      <th>engineDisplacement</th>\n",
       "      <th>enginePower</th>\n",
       "      <th>location</th>\n",
       "      <th>equipment_dict</th>\n",
       "      <th>...</th>\n",
       "      <th>vehicleTransmission</th>\n",
       "      <th>vendor</th>\n",
       "      <th>Владельцы</th>\n",
       "      <th>Владение</th>\n",
       "      <th>ПТС</th>\n",
       "      <th>Привод</th>\n",
       "      <th>Руль</th>\n",
       "      <th>Состояние</th>\n",
       "      <th>Таможня</th>\n",
       "      <th>price</th>\n",
       "    </tr>\n",
       "  </thead>\n",
       "  <tbody>\n",
       "    <tr>\n",
       "      <th>0</th>\n",
       "      <td>Внедорожник 5 дв.</td>\n",
       "      <td>Volvo</td>\n",
       "      <td>https://auto.ru/cars/used/sale/volvo/xc90/1101...</td>\n",
       "      <td>0000CC</td>\n",
       "      <td>{'id': '0'}</td>\n",
       "      <td>Продажа а/м осуществляется ОФИЦИАЛЬНЫМ ДИЛЕРОМ...</td>\n",
       "      <td>2.0 LTR</td>\n",
       "      <td>235 N12</td>\n",
       "      <td>Москва</td>\n",
       "      <td>{'esp': True, 'airbag-driver': True, 'aux': Tr...</td>\n",
       "      <td>...</td>\n",
       "      <td>AUTOMATIC</td>\n",
       "      <td>EUROPEAN</td>\n",
       "      <td>2.0</td>\n",
       "      <td>NaN</td>\n",
       "      <td>ORIGINAL</td>\n",
       "      <td>ALL_WHEEL_DRIVE</td>\n",
       "      <td>LEFT</td>\n",
       "      <td>True</td>\n",
       "      <td>True</td>\n",
       "      <td>2799000</td>\n",
       "    </tr>\n",
       "    <tr>\n",
       "      <th>1</th>\n",
       "      <td>Седан</td>\n",
       "      <td>Volvo</td>\n",
       "      <td>https://auto.ru/cars/used/sale/volvo/s80/11013...</td>\n",
       "      <td>200204</td>\n",
       "      <td>{'id': '0'}</td>\n",
       "      <td>При покупке автомобиля до 15 ноября  \\n► Выгод...</td>\n",
       "      <td>2.5 LTR</td>\n",
       "      <td>249 N12</td>\n",
       "      <td>Москва</td>\n",
       "      <td>{'cruise-control': True, 'asr': True, 'tinted-...</td>\n",
       "      <td>...</td>\n",
       "      <td>AUTOMATIC</td>\n",
       "      <td>EUROPEAN</td>\n",
       "      <td>1.0</td>\n",
       "      <td>NaN</td>\n",
       "      <td>ORIGINAL</td>\n",
       "      <td>FORWARD_CONTROL</td>\n",
       "      <td>LEFT</td>\n",
       "      <td>True</td>\n",
       "      <td>True</td>\n",
       "      <td>1277000</td>\n",
       "    </tr>\n",
       "    <tr>\n",
       "      <th>2</th>\n",
       "      <td>Внедорожник 5 дв.</td>\n",
       "      <td>Volvo</td>\n",
       "      <td>https://auto.ru/cars/new/sale/volvo/xc90/11009...</td>\n",
       "      <td>97948F</td>\n",
       "      <td>{'id': '22148941', 'name': 'Momentum', 'availa...</td>\n",
       "      <td>Официальный дилер Volvo в Москве и Московской ...</td>\n",
       "      <td>2.0 LTR</td>\n",
       "      <td>249 N12</td>\n",
       "      <td>Москва</td>\n",
       "      <td>{'multi-wheel': True, 'heated-wash-system': Tr...</td>\n",
       "      <td>...</td>\n",
       "      <td>AUTOMATIC</td>\n",
       "      <td>EUROPEAN</td>\n",
       "      <td>NaN</td>\n",
       "      <td>NaN</td>\n",
       "      <td>ORIGINAL</td>\n",
       "      <td>ALL_WHEEL_DRIVE</td>\n",
       "      <td>LEFT</td>\n",
       "      <td>True</td>\n",
       "      <td>True</td>\n",
       "      <td>4861200</td>\n",
       "    </tr>\n",
       "  </tbody>\n",
       "</table>\n",
       "<p>3 rows × 34 columns</p>\n",
       "</div>"
      ],
      "text/plain": [
       "            bodyType  brand  \\\n",
       "0  Внедорожник 5 дв.  Volvo   \n",
       "1              Седан  Volvo   \n",
       "2  Внедорожник 5 дв.  Volvo   \n",
       "\n",
       "                                             car_url   color  \\\n",
       "0  https://auto.ru/cars/used/sale/volvo/xc90/1101...  0000CC   \n",
       "1  https://auto.ru/cars/used/sale/volvo/s80/11013...  200204   \n",
       "2  https://auto.ru/cars/new/sale/volvo/xc90/11009...  97948F   \n",
       "\n",
       "                                  complectation_dict  \\\n",
       "0                                        {'id': '0'}   \n",
       "1                                        {'id': '0'}   \n",
       "2  {'id': '22148941', 'name': 'Momentum', 'availa...   \n",
       "\n",
       "                                         description engineDisplacement  \\\n",
       "0  Продажа а/м осуществляется ОФИЦИАЛЬНЫМ ДИЛЕРОМ...            2.0 LTR   \n",
       "1  При покупке автомобиля до 15 ноября  \\n► Выгод...            2.5 LTR   \n",
       "2  Официальный дилер Volvo в Москве и Московской ...            2.0 LTR   \n",
       "\n",
       "  enginePower location                                     equipment_dict  \\\n",
       "0     235 N12   Москва  {'esp': True, 'airbag-driver': True, 'aux': Tr...   \n",
       "1     249 N12   Москва  {'cruise-control': True, 'asr': True, 'tinted-...   \n",
       "2     249 N12   Москва  {'multi-wheel': True, 'heated-wash-system': Tr...   \n",
       "\n",
       "   ... vehicleTransmission    vendor  Владельцы  Владение       ПТС  \\\n",
       "0  ...           AUTOMATIC  EUROPEAN        2.0       NaN  ORIGINAL   \n",
       "1  ...           AUTOMATIC  EUROPEAN        1.0       NaN  ORIGINAL   \n",
       "2  ...           AUTOMATIC  EUROPEAN        NaN       NaN  ORIGINAL   \n",
       "\n",
       "            Привод  Руль  Состояние  Таможня    price  \n",
       "0  ALL_WHEEL_DRIVE  LEFT       True     True  2799000  \n",
       "1  FORWARD_CONTROL  LEFT       True     True  1277000  \n",
       "2  ALL_WHEEL_DRIVE  LEFT       True     True  4861200  \n",
       "\n",
       "[3 rows x 34 columns]"
      ]
     },
     "execution_count": 6,
     "metadata": {},
     "output_type": "execute_result"
    }
   ],
   "source": [
    "df.head(3)"
   ]
  },
  {
   "cell_type": "code",
   "execution_count": 7,
   "metadata": {},
   "outputs": [
    {
     "name": "stdout",
     "output_type": "stream",
     "text": [
      "<class 'pandas.core.frame.DataFrame'>\n",
      "Int64Index: 363387 entries, 0 to 1849\n",
      "Data columns (total 34 columns):\n",
      " #   Column                Non-Null Count   Dtype  \n",
      "---  ------                --------------   -----  \n",
      " 0   bodyType              363387 non-null  object \n",
      " 1   brand                 363387 non-null  object \n",
      " 2   car_url               363387 non-null  object \n",
      " 3   color                 363387 non-null  object \n",
      " 4   complectation_dict    363387 non-null  object \n",
      " 5   description           359623 non-null  object \n",
      " 6   engineDisplacement    363387 non-null  object \n",
      " 7   enginePower           363387 non-null  object \n",
      " 8   location              363387 non-null  object \n",
      " 9   equipment_dict        363387 non-null  object \n",
      " 10  fuelType              363387 non-null  object \n",
      " 11  image                 363387 non-null  object \n",
      " 12  mileage               363387 non-null  int64  \n",
      " 13  modelDate             363387 non-null  int64  \n",
      " 14  model_info            363387 non-null  object \n",
      " 15  model_name            363387 non-null  object \n",
      " 16  name                  363387 non-null  object \n",
      " 17  numberOfDoors         363387 non-null  int64  \n",
      " 18  parsing_unixtime      363387 non-null  int64  \n",
      " 19  priceCurrency         363387 non-null  object \n",
      " 20  productionDate        363387 non-null  int64  \n",
      " 21  sell_id               363387 non-null  object \n",
      " 22  super_gen             363387 non-null  object \n",
      " 23  vehicleConfiguration  363387 non-null  object \n",
      " 24  vehicleTransmission   363387 non-null  object \n",
      " 25  vendor                363387 non-null  object \n",
      " 26  Владельцы             289612 non-null  float64\n",
      " 27  Владение              28760 non-null   object \n",
      " 28  ПТС                   360977 non-null  object \n",
      " 29  Привод                363387 non-null  object \n",
      " 30  Руль                  363387 non-null  object \n",
      " 31  Состояние             363387 non-null  bool   \n",
      " 32  Таможня               363387 non-null  bool   \n",
      " 33  price                 363387 non-null  int64  \n",
      "dtypes: bool(2), float64(1), int64(6), object(25)\n",
      "memory usage: 92.2+ MB\n"
     ]
    }
   ],
   "source": [
    "df.info()"
   ]
  },
  {
   "cell_type": "code",
   "execution_count": 8,
   "metadata": {},
   "outputs": [
    {
     "data": {
      "text/plain": [
       "bodyType                     0\n",
       "brand                        0\n",
       "car_url                      0\n",
       "color                        0\n",
       "complectation_dict           0\n",
       "description               3764\n",
       "engineDisplacement           0\n",
       "enginePower                  0\n",
       "location                     0\n",
       "equipment_dict               0\n",
       "fuelType                     0\n",
       "image                        0\n",
       "mileage                      0\n",
       "modelDate                    0\n",
       "model_info                   0\n",
       "model_name                   0\n",
       "name                         0\n",
       "numberOfDoors                0\n",
       "parsing_unixtime             0\n",
       "priceCurrency                0\n",
       "productionDate               0\n",
       "sell_id                      0\n",
       "super_gen                    0\n",
       "vehicleConfiguration         0\n",
       "vehicleTransmission          0\n",
       "vendor                       0\n",
       "Владельцы                73775\n",
       "Владение                334627\n",
       "ПТС                       2410\n",
       "Привод                       0\n",
       "Руль                         0\n",
       "Состояние                    0\n",
       "Таможня                      0\n",
       "price                        0\n",
       "dtype: int64"
      ]
     },
     "execution_count": 8,
     "metadata": {},
     "output_type": "execute_result"
    }
   ],
   "source": [
    "df.isna().sum()"
   ]
  },
  {
   "cell_type": "markdown",
   "metadata": {},
   "source": [
    "# Обрабатываем набор"
   ]
  },
  {
   "cell_type": "code",
   "execution_count": 9,
   "metadata": {
    "code_folding": []
   },
   "outputs": [],
   "source": [
    "def reformat_train_data(df):\n",
    "    df.bodyType = df.bodyType.str.lower()\\\n",
    "                    .str.replace(' gran turismo','')\\\n",
    "                    .str.replace(' gran coupe','')\\\n",
    "                    .str.replace(' compact','')\\\n",
    "                    .str.replace(' roadster','')\\\n",
    "                    .str.replace(' single cab','')\\\n",
    "                    .str.replace(' lucida','')\\\n",
    "                    .str.replace(' marco polo','')\\\n",
    "                    .str.replace(' asti','')\\\n",
    "                    .str.replace(' plus','')\\\n",
    "                    .str.replace(' regius','')\\\n",
    "                    .str.replace(' double cab','')\\\n",
    "                    .str.replace(' gran tourer','')\\\n",
    "                    .str.replace(' lwb','')\\\n",
    "                    .str.replace(' xl','')\\\n",
    "                    .str.replace(' sportback','')\\\n",
    "                    .str.replace(' type-s','')\\\n",
    "                    .str.replace(' us market','')\\\n",
    "                    .str.replace(' scout','')\\\n",
    "                    .str.replace(' emina','')\\\n",
    "                    .str.replace(' l2','')\\\n",
    "                    .str.replace(' crewmax','')\\\n",
    "                    .str.replace(' extralong','')\\\n",
    "                    .str.replace(' swb','')\\\n",
    "                    .str.replace(' pullman','')\\\n",
    "                    .str.replace(' extra','')\\\n",
    "                    .str.replace(' phv','')\\\n",
    "                    .str.replace(' l3','')\\\n",
    "                    .str.replace(' all-terrain','')\\\n",
    "                    .str.replace(' del sol','')\\\n",
    "                    .str.replace(' life maxi','')\\\n",
    "                    .str.replace(' 76','')\\\n",
    "                    .str.replace(' spada','')\\\n",
    "                    .str.replace(' lucida','')\\\n",
    "                    .str.replace(' gita','')\\\n",
    "                    .str.replace(' alltrack','')\\\n",
    "                    .str.replace(' blit','')\\\n",
    "                    .str.replace(' kasten','')\\\n",
    "                    .str.replace(' allspace','')\\\n",
    "                    .str.replace(' arctic trucks','')\\\n",
    "                    .str.replace(' 78','')\\\n",
    "                    .str.replace(' noah','')\\\n",
    "                    .str.replace(' l1','')\\\n",
    "                    .str.replace(' japan market','')\\\n",
    "                    .str.replace(' fielder','')\\\n",
    "                    .str.replace(' ardeo','')\\\n",
    "                    .str.replace(' 79','')\\\n",
    "                    .str.replace(' runx','')\\\n",
    "                    .str.replace(' gracia','')\\\n",
    "                    .str.replace(' asti','')\\\n",
    "                    .str.replace(' plus','')\\\n",
    "                    .str.replace(' marco polo','')\\\n",
    "                    .str.replace(' single cab','')\\\n",
    "                    .str.replace(' cross','')\\\n",
    "                    .str.replace(' gracia','')\\\n",
    "                    .str.replace(' liftback','')\\\n",
    "                    .str.replace(' xc','')\\\n",
    "                    .str.replace(' latio','')\\\n",
    "                    .str.replace(' spike','')\\\n",
    "                    .str.replace(' bed','')\\\n",
    "                    .str.replace(' 4x4','')\\\n",
    "                    .str.replace(' 120','')\\\n",
    "                    .str.replace(' regius','')\\\n",
    "                    .str.replace(' california','')\\\n",
    "                    .str.replace(' life','')\\\n",
    "                    .str.replace(' maxi','')\\\n",
    "                    .str.replace(' axio','')\\\n",
    "                    .str.replace(' gt','')\\\n",
    "                    .str.replace(' t150','')\\\n",
    "                    .str.replace(' spaceback','')\\\n",
    "                    .str.replace(' regular cab','')\\\n",
    "                    .str.replace(' cargo','')\\\n",
    "                    .str.replace(' long','')\\\n",
    "                    .str.replace(' l','')\\\n",
    "                    \n",
    "                    \n",
    "    colors = {\n",
    "    '040001':'чёрный',\n",
    "    '0000CC':'синий',\n",
    "    'FAFBFB':'белый',\n",
    "    '97948F':'серый',\n",
    "    'CACECB':'серый',\n",
    "    '200204':'чёрный',\n",
    "    'EE1D19':'красный',\n",
    "    'FFC0CB':'розовый',\n",
    "    'C49648':'золотистый',\n",
    "    '22A0F8':'голубой',\n",
    "    'FF8649':'оранжевый',\n",
    "    '007F00':'зелёный',\n",
    "    'DEA522':'золотистый',\n",
    "    '660099':'фиолетовый',\n",
    "    '4A2197':'фиолетовый',\n",
    "    'FFD600':'жёлтый'\n",
    "    }\n",
    "    df.color = df.color.map(colors)\n",
    "    \n",
    "    fuelTypes = {\n",
    "    'DIESEL':'дизель',\n",
    "    'GASOLINE':'бензин',\n",
    "    'LPG':'газ',\n",
    "    'HYBRID':'гибрид',\n",
    "    'ELECTRO':'электро',\n",
    "    }\n",
    "    df.fuelType = df.fuelType.map(fuelTypes)\n",
    "    \n",
    "    df.modelDate = df.modelDate.astype(float)\n",
    "    \n",
    "    df.numberOfDoors = df.numberOfDoors.astype(float)\n",
    "    \n",
    "    df.loc[df.brand=='Mercedes-Benz','brand'] = 'MERCEDES'\n",
    "    df.brand = df.brand.str.upper()\n",
    "    \n",
    "    transmissionTypes = {\n",
    "    'AUTOMATIC':'автоматическая',\n",
    "    'MECHANICAL':'механическая',\n",
    "    'ROBOT':'роботизированная',\n",
    "    'VARIATOR':'вариатор'\n",
    "    }\n",
    "    df.vehicleTransmission = df.vehicleTransmission.map(transmissionTypes)\n",
    "    \n",
    "    pTypes = {\n",
    "    'ALL_WHEEL_DRIVE':'полный',\n",
    "    'REAR_DRIVE':'задний',\n",
    "    'FORWARD_CONTROL':'передний',\n",
    "    }\n",
    "    df['Привод'] = df['Привод'].map(pTypes)\n",
    "    \n",
    "    pTypes = {\n",
    "    'LEFT':'Левый',\n",
    "    'RIGHT':'Правый',\n",
    "    }\n",
    "    df['Руль'] = df['Руль'].map(pTypes)\n",
    "    \n",
    "    pTypes = {\n",
    "    True:'Не требует ремонта',\n",
    "    }\n",
    "    df['Состояние'] = df['Состояние'].map(pTypes)\n",
    "    \n",
    "    pTypes = {\n",
    "    1:'1\\xa0владелец',\n",
    "    2:'2\\xa0владельца',\n",
    "    3:'3 или более',\n",
    "    }\n",
    "    df['Владельцы'] = df['Владельцы'].map(pTypes)\n",
    "    \n",
    "    pTypes = {\n",
    "    'ORIGINAL':'Оригинал',\n",
    "    'DUPLICATE':'Дубликат'\n",
    "    }\n",
    "    df['ПТС'] = df['ПТС'].map(pTypes)\n",
    "    \n",
    "    pTypes = {\n",
    "    True:'Растаможен',\n",
    "    }\n",
    "    df['Таможня'] = df['Таможня'].map(pTypes)\n",
    "    \n",
    "    df.model_name = df.model_name.str.upper()\n",
    "    \n",
    "    "
   ]
  },
  {
   "cell_type": "code",
   "execution_count": 10,
   "metadata": {},
   "outputs": [],
   "source": [
    "df = df_train.copy() # так привычнее\n",
    "reformat_train_data(df)\n",
    "df.drop_duplicates(['car_url'], inplace=True)\n",
    "df.reset_index(inplace=True)"
   ]
  },
  {
   "cell_type": "code",
   "execution_count": 11,
   "metadata": {},
   "outputs": [
    {
     "data": {
      "text/plain": [
       "(36210, 35)"
      ]
     },
     "execution_count": 11,
     "metadata": {},
     "output_type": "execute_result"
    }
   ],
   "source": [
    "df.shape"
   ]
  },
  {
   "cell_type": "markdown",
   "metadata": {},
   "source": [
    "# Анализирум колонки"
   ]
  },
  {
   "cell_type": "markdown",
   "metadata": {},
   "source": [
    "## bodyType"
   ]
  },
  {
   "cell_type": "code",
   "execution_count": 12,
   "metadata": {},
   "outputs": [
    {
     "data": {
      "text/plain": [
       "array(['внедорожник 5 дв.', 'седан', 'универсал 5 дв.', 'хэтчбек 5 дв.',\n",
       "       'купе-хардтоп', 'купе', 'хэтчбек 3 дв.', 'лифтбек', 'кабриолет',\n",
       "       'родстер', 'компактвэн', 'минивэн', 'внедорожник 3 дв.',\n",
       "       'пикап двойная кабина', 'пикап одинарная кабина', 'седан 2 дв.',\n",
       "       'микровэн', 'универсал 3 дв.1', 'седан-хардтоп',\n",
       "       'внедорожник открытый', 'фургон', 'фастбек', 'лимузин',\n",
       "       'пикап полуторная кабина', 'тарга'], dtype=object)"
      ]
     },
     "execution_count": 12,
     "metadata": {},
     "output_type": "execute_result"
    }
   ],
   "source": [
    "df.bodyType.unique()"
   ]
  },
  {
   "cell_type": "code",
   "execution_count": 13,
   "metadata": {},
   "outputs": [
    {
     "data": {
      "text/plain": [
       "25"
      ]
     },
     "execution_count": 13,
     "metadata": {},
     "output_type": "execute_result"
    }
   ],
   "source": [
    "df.bodyType.nunique()"
   ]
  },
  {
   "cell_type": "markdown",
   "metadata": {},
   "source": [
    "## brand"
   ]
  },
  {
   "cell_type": "code",
   "execution_count": 14,
   "metadata": {},
   "outputs": [
    {
     "data": {
      "text/plain": [
       "VOLKSWAGEN    3769\n",
       "MERCEDES      3738\n",
       "BMW           3730\n",
       "NISSAN        3621\n",
       "TOYOTA        3517\n",
       "AUDI          3457\n",
       "SKODA         3422\n",
       "MITSUBISHI    3389\n",
       "VOLVO         2796\n",
       "HONDA         1998\n",
       "LEXUS         1553\n",
       "INFINITI      1220\n",
       "Name: brand, dtype: int64"
      ]
     },
     "execution_count": 14,
     "metadata": {},
     "output_type": "execute_result"
    }
   ],
   "source": [
    "df.brand.value_counts()"
   ]
  },
  {
   "cell_type": "markdown",
   "metadata": {},
   "source": [
    "## color"
   ]
  },
  {
   "cell_type": "code",
   "execution_count": 15,
   "metadata": {},
   "outputs": [
    {
     "data": {
      "text/plain": [
       "чёрный        12813\n",
       "серый          8190\n",
       "белый          7050\n",
       "синий          3643\n",
       "красный        1530\n",
       "золотистый      891\n",
       "зелёный         881\n",
       "фиолетовый      420\n",
       "голубой         417\n",
       "жёлтый          203\n",
       "оранжевый       163\n",
       "розовый           9\n",
       "Name: color, dtype: int64"
      ]
     },
     "execution_count": 15,
     "metadata": {},
     "output_type": "execute_result"
    }
   ],
   "source": [
    "df.color.value_counts()"
   ]
  },
  {
   "cell_type": "markdown",
   "metadata": {},
   "source": [
    "## car_url"
   ]
  },
  {
   "cell_type": "code",
   "execution_count": 16,
   "metadata": {},
   "outputs": [
    {
     "data": {
      "text/plain": [
       "0    https://auto.ru/cars/used/sale/volvo/xc90/1101...\n",
       "1    https://auto.ru/cars/used/sale/volvo/s80/11013...\n",
       "2    https://auto.ru/cars/new/sale/volvo/xc90/11009...\n",
       "3    https://auto.ru/cars/used/sale/volvo/xc60/1100...\n",
       "4    https://auto.ru/cars/used/sale/volvo/s60/11014...\n",
       "Name: car_url, dtype: object"
      ]
     },
     "execution_count": 16,
     "metadata": {},
     "output_type": "execute_result"
    }
   ],
   "source": [
    "df.car_url.head()"
   ]
  },
  {
   "cell_type": "code",
   "execution_count": 17,
   "metadata": {},
   "outputs": [
    {
     "data": {
      "text/plain": [
       "array(['https://auto.ru/cars/used/sale/toyota/hiace/1099124917-a4bf7383/'],\n",
       "      dtype=object)"
      ]
     },
     "execution_count": 17,
     "metadata": {},
     "output_type": "execute_result"
    }
   ],
   "source": [
    "df.car_url.sample(1).values"
   ]
  },
  {
   "cell_type": "markdown",
   "metadata": {},
   "source": [
    "## complectiaion_dict"
   ]
  },
  {
   "cell_type": "code",
   "execution_count": 18,
   "metadata": {},
   "outputs": [
    {
     "data": {
      "text/plain": [
       "array([\"{'id': '21555601', 'name': 'Inscription', 'available_options': ['multi-wheel', 'airbag-passenger', 'roof-rails', 'decorative-interior-lighting', 'bas', 'lock', 'door-sill-panel', 'electro-mirrors', 'easy-trunk-opening', 'mirrors-heat', 'volume-sensor', 'leather', 'driver-seat-memory', 'glonass', 'start-stop-function', 'automatic-lighting-control', 'passenger-seat-updown', 'collision-prevention-assist', 'computer', 'high-beam-assist', 'seat-transformation', 'light-cleaner', 'dha', 'airbag-side', 'electronic-gage-panel', 'electro-trunk', 'auto-cruise', 'abs', 'wheel-leather', 'climate-control-2', 'auto-mirrors', 'asr', 'esp', 'usb', 'audiopreparation', 'audiosystem-tv', 'lane-keeping-assist', 'front-centre-armrest', 'front-seat-support', 'rear-camera', 'servo', 'drl', 'electro-window-back', 'reduce-spare-wheel', 'body-mouldings', 'park-assist-f', '19-inch-wheels', 'led-lights', 'music-super', 'park-assist-r', 'knee-airbag', 'airbag-driver', 'isofix', 'roller-blinds-for-rear-side-windows', 'drive-mode-sys', 'electro-window-front', 'light-sensor', 'hcc', 'airbag-curtain', 'keyless-entry', 'passenger-seat-electric', 'alarm', 'leather-gear-stick', 'traffic-sign-recognition', 'start-button', 'ptf', 'rain-sensor', 'tyre-pressure', 'voice-recognition', 'front-seats-heat', 'bluetooth', 'wheel-configuration2', 'wheel-configuration1', 'immo', 'third-rear-headrest'], 'vendor_colors': [{'body_color_id': 21560346, 'mark_color_id': 21391597, 'name_ru': 'Crystal White Pearl', 'hex_codes': ['EAE6E8'], 'color_type': 'METALLIC', 'stock_color': {'hex_code': 'FAFBFB', 'name_ru': 'белый'}, 'photos': [{'name': '34-front', 'sizes': {'orig': '//avatars.mds.yandex.net/get-verba/1540742/2a0000016ab1e33cf2fdc965cc9b5010661a/orig', 'wizardv3mr': '//avatars.mds.yandex.net/get-verba/1540742/2a0000016ab1e33cf2fdc965cc9b5010661a/wizardv3mr', 'wizardv3': '//avatars.mds.yandex.net/get-verba/1540742/2a0000016ab1e33cf2fdc965cc9b5010661a/wizardv3', 'cattouch': '//avatars.mds.yandex.net/get-verba/1540742/2a0000016ab1e33cf2fdc965cc9b5010661a/cattouch', 'small': '//avatars.mds.yandex.net/get-verba/1540742/2a0000016ab1e33cf2fdc965cc9b5010661a/small', '320x240': '//avatars.mds.yandex.net/get-verba/1540742/2a0000016ab1e33cf2fdc965cc9b5010661a/320x240', '1200x900': '//avatars.mds.yandex.net/get-verba/1540742/2a0000016ab1e33cf2fdc965cc9b5010661a/1200x900', '1200x900n': '//avatars.mds.yandex.net/get-verba/1540742/2a0000016ab1e33cf2fdc965cc9b5010661a/1200x900n', 'thumb_m': '//avatars.mds.yandex.net/get-verba/1540742/2a0000016ab1e33cf2fdc965cc9b5010661a/thumb_m', 'full': '//avatars.mds.yandex.net/get-verba/1540742/2a0000016ab1e33cf2fdc965cc9b5010661a/full', '832x624': '//avatars.mds.yandex.net/get-verba/1540742/2a0000016ab1e33cf2fdc965cc9b5010661a/832x624', '456x342': '//avatars.mds.yandex.net/get-verba/1540742/2a0000016ab1e33cf2fdc965cc9b5010661a/456x342', '120x90': '//avatars.mds.yandex.net/get-verba/1540742/2a0000016ab1e33cf2fdc965cc9b5010661a/120x90', '92x69': '//avatars.mds.yandex.net/get-verba/1540742/2a0000016ab1e33cf2fdc965cc9b5010661a/92x69', 'islandoff': '//avatars.mds.yandex.net/get-verba/1540742/2a0000016ab1e33cf2fdc965cc9b5010661a/islandoff', 'thumb_s': '//avatars.mds.yandex.net/get-verba/1540742/2a0000016ab1e33cf2fdc965cc9b5010661a/thumb_s', 'thumb_s_2x': '//avatars.mds.yandex.net/get-verba/1540742/2a0000016ab1e33cf2fdc965cc9b5010661a/thumb_s_2x'}}, {'name': '34-back', 'sizes': {'orig': '//avatars.mds.yandex.net/get-verba/1540742/2a0000016ab1e34f63932a027f2e34b4d6e5/orig', 'wizardv3mr': '//avatars.mds.yandex.net/get-verba/1540742/2a0000016ab1e34f63932a027f2e34b4d6e5/wizardv3mr', 'wizardv3': '//avatars.mds.yandex.net/get-verba/1540742/2a0000016ab1e34f63932a027f2e34b4d6e5/wizardv3', 'cattouch': '//avatars.mds.yandex.net/get-verba/1540742/2a0000016ab1e34f63932a027f2e34b4d6e5/cattouch', 'small': '//avatars.mds.yandex.net/get-verba/1540742/2a0000016ab1e34f63932a027f2e34b4d6e5/small', '320x240': '//avatars.mds.yandex.net/get-verba/1540742/2a0000016ab1e34f63932a027f2e34b4d6e5/320x240', '1200x900': '//avatars.mds.yandex.net/get-verba/1540742/2a0000016ab1e34f63932a027f2e34b4d6e5/1200x900', '1200x900n': '//avatars.mds.yandex.net/get-verba/1540742/2a0000016ab1e34f63932a027f2e34b4d6e5/1200x900n', 'thumb_m': '//avatars.mds.yandex.net/get-verba/1540742/2a0000016ab1e34f63932a027f2e34b4d6e5/thumb_m', 'full': '//avatars.mds.yandex.net/get-verba/1540742/2a0000016ab1e34f63932a027f2e34b4d6e5/full', '832x624': '//avatars.mds.yandex.net/get-verba/1540742/2a0000016ab1e34f63932a027f2e34b4d6e5/832x624', '456x342': '//avatars.mds.yandex.net/get-verba/1540742/2a0000016ab1e34f63932a027f2e34b4d6e5/456x342', '120x90': '//avatars.mds.yandex.net/get-verba/1540742/2a0000016ab1e34f63932a027f2e34b4d6e5/120x90', '92x69': '//avatars.mds.yandex.net/get-verba/1540742/2a0000016ab1e34f63932a027f2e34b4d6e5/92x69', 'islandoff': '//avatars.mds.yandex.net/get-verba/1540742/2a0000016ab1e34f63932a027f2e34b4d6e5/islandoff', 'thumb_s': '//avatars.mds.yandex.net/get-verba/1540742/2a0000016ab1e34f63932a027f2e34b4d6e5/thumb_s', 'thumb_s_2x': '//avatars.mds.yandex.net/get-verba/1540742/2a0000016ab1e34f63932a027f2e34b4d6e5/thumb_s_2x'}}, {'name': 'side', 'sizes': {'orig': '//avatars.mds.yandex.net/get-verba/1540742/2a0000016ab1e3644088f4a92b93cf8e4a80/orig', 'wizardv3mr': '//avatars.mds.yandex.net/get-verba/1540742/2a0000016ab1e3644088f4a92b93cf8e4a80/wizardv3mr', 'wizardv3': '//avatars.mds.yandex.net/get-verba/1540742/2a0000016ab1e3644088f4a92b93cf8e4a80/wizardv3', 'cattouch': '//avatars.mds.yandex.net/get-verba/1540742/2a0000016ab1e3644088f4a92b93cf8e4a80/cattouch', 'small': '//avatars.mds.yandex.net/get-verba/1540742/2a0000016ab1e3644088f4a92b93cf8e4a80/small', '320x240': '//avatars.mds.yandex.net/get-verba/1540742/2a0000016ab1e3644088f4a92b93cf8e4a80/320x240', '1200x900': '//avatars.mds.yandex.net/get-verba/1540742/2a0000016ab1e3644088f4a92b93cf8e4a80/1200x900', '1200x900n': '//avatars.mds.yandex.net/get-verba/1540742/2a0000016ab1e3644088f4a92b93cf8e4a80/1200x900n', 'thumb_m': '//avatars.mds.yandex.net/get-verba/1540742/2a0000016ab1e3644088f4a92b93cf8e4a80/thumb_m', 'full': '//avatars.mds.yandex.net/get-verba/1540742/2a0000016ab1e3644088f4a92b93cf8e4a80/full', '832x624': '//avatars.mds.yandex.net/get-verba/1540742/2a0000016ab1e3644088f4a92b93cf8e4a80/832x624', '456x342': '//avatars.mds.yandex.net/get-verba/1540742/2a0000016ab1e3644088f4a92b93cf8e4a80/456x342', '120x90': '//avatars.mds.yandex.net/get-verba/1540742/2a0000016ab1e3644088f4a92b93cf8e4a80/120x90', '92x69': '//avatars.mds.yandex.net/get-verba/1540742/2a0000016ab1e3644088f4a92b93cf8e4a80/92x69', 'islandoff': '//avatars.mds.yandex.net/get-verba/1540742/2a0000016ab1e3644088f4a92b93cf8e4a80/islandoff', 'thumb_s': '//avatars.mds.yandex.net/get-verba/1540742/2a0000016ab1e3644088f4a92b93cf8e4a80/thumb_s', 'thumb_s_2x': '//avatars.mds.yandex.net/get-verba/1540742/2a0000016ab1e3644088f4a92b93cf8e4a80/thumb_s_2x'}}, {'name': 'front', 'sizes': {'orig': '//avatars.mds.yandex.net/get-verba/1604130/2a0000016ab1e377b0354dbea88912395ccb/orig', 'wizardv3mr': '//avatars.mds.yandex.net/get-verba/1604130/2a0000016ab1e377b0354dbea88912395ccb/wizardv3mr', 'wizardv3': '//avatars.mds.yandex.net/get-verba/1604130/2a0000016ab1e377b0354dbea88912395ccb/wizardv3', 'cattouch': '//avatars.mds.yandex.net/get-verba/1604130/2a0000016ab1e377b0354dbea88912395ccb/cattouch', 'small': '//avatars.mds.yandex.net/get-verba/1604130/2a0000016ab1e377b0354dbea88912395ccb/small', '320x240': '//avatars.mds.yandex.net/get-verba/1604130/2a0000016ab1e377b0354dbea88912395ccb/320x240', '1200x900': '//avatars.mds.yandex.net/get-verba/1604130/2a0000016ab1e377b0354dbea88912395ccb/1200x900', '1200x900n': '//avatars.mds.yandex.net/get-verba/1604130/2a0000016ab1e377b0354dbea88912395ccb/1200x900n', 'thumb_m': '//avatars.mds.yandex.net/get-verba/1604130/2a0000016ab1e377b0354dbea88912395ccb/thumb_m', 'full': '//avatars.mds.yandex.net/get-verba/1604130/2a0000016ab1e377b0354dbea88912395ccb/full', '832x624': '//avatars.mds.yandex.net/get-verba/1604130/2a0000016ab1e377b0354dbea88912395ccb/832x624', '456x342': '//avatars.mds.yandex.net/get-verba/1604130/2a0000016ab1e377b0354dbea88912395ccb/456x342', '120x90': '//avatars.mds.yandex.net/get-verba/1604130/2a0000016ab1e377b0354dbea88912395ccb/120x90', '92x69': '//avatars.mds.yandex.net/get-verba/1604130/2a0000016ab1e377b0354dbea88912395ccb/92x69', 'islandoff': '//avatars.mds.yandex.net/get-verba/1604130/2a0000016ab1e377b0354dbea88912395ccb/islandoff', 'thumb_s': '//avatars.mds.yandex.net/get-verba/1604130/2a0000016ab1e377b0354dbea88912395ccb/thumb_s', 'thumb_s_2x': '//avatars.mds.yandex.net/get-verba/1604130/2a0000016ab1e377b0354dbea88912395ccb/thumb_s_2x'}}, {'name': 'back', 'sizes': {'orig': '//avatars.mds.yandex.net/get-verba/1540742/2a0000016ab1e38ccc5a529a1f46ce89798f/orig', 'wizardv3mr': '//avatars.mds.yandex.net/get-verba/1540742/2a0000016ab1e38ccc5a529a1f46ce89798f/wizardv3mr', 'wizardv3': '//avatars.mds.yandex.net/get-verba/1540742/2a0000016ab1e38ccc5a529a1f46ce89798f/wizardv3', 'cattouch': '//avatars.mds.yandex.net/get-verba/1540742/2a0000016ab1e38ccc5a529a1f46ce89798f/cattouch', 'small': '//avatars.mds.yandex.net/get-verba/1540742/2a0000016ab1e38ccc5a529a1f46ce89798f/small', '320x240': '//avatars.mds.yandex.net/get-verba/1540742/2a0000016ab1e38ccc5a529a1f46ce89798f/320x240', '1200x900': '//avatars.mds.yandex.net/get-verba/1540742/2a0000016ab1e38ccc5a529a1f46ce89798f/1200x900', '1200x900n': '//avatars.mds.yandex.net/get-verba/1540742/2a0000016ab1e38ccc5a529a1f46ce89798f/1200x900n', 'thumb_m': '//avatars.mds.yandex.net/get-verba/1540742/2a0000016ab1e38ccc5a529a1f46ce89798f/thumb_m', 'full': '//avatars.mds.yandex.net/get-verba/1540742/2a0000016ab1e38ccc5a529a1f46ce89798f/full', '832x624': '//avatars.mds.yandex.net/get-verba/1540742/2a0000016ab1e38ccc5a529a1f46ce89798f/832x624', '456x342': '//avatars.mds.yandex.net/get-verba/1540742/2a0000016ab1e38ccc5a529a1f46ce89798f/456x342', '120x90': '//avatars.mds.yandex.net/get-verba/1540742/2a0000016ab1e38ccc5a529a1f46ce89798f/120x90', '92x69': '//avatars.mds.yandex.net/get-verba/1540742/2a0000016ab1e38ccc5a529a1f46ce89798f/92x69', 'islandoff': '//avatars.mds.yandex.net/get-verba/1540742/2a0000016ab1e38ccc5a529a1f46ce89798f/islandoff', 'thumb_s': '//avatars.mds.yandex.net/get-verba/1540742/2a0000016ab1e38ccc5a529a1f46ce89798f/thumb_s', 'thumb_s_2x': '//avatars.mds.yandex.net/get-verba/1540742/2a0000016ab1e38ccc5a529a1f46ce89798f/thumb_s_2x'}}], 'main_color': True}]}\"],\n",
       "      dtype=object)"
      ]
     },
     "execution_count": 18,
     "metadata": {},
     "output_type": "execute_result"
    }
   ],
   "source": [
    "df.complectation_dict.sample(1).values"
   ]
  },
  {
   "cell_type": "markdown",
   "metadata": {},
   "source": [
    "## description"
   ]
  },
  {
   "cell_type": "code",
   "execution_count": 19,
   "metadata": {},
   "outputs": [
    {
     "data": {
      "text/plain": [
       "array(['-Оригинальный ПТС.  \\t\\n-Сервисное обслуживание. \\n-Полный комплект документов и ключей. \\n-Без нареканий по технической части.\\n\\n-Мы принимаем любые легковые и коммерческие автомобили независимо от марки, года выпуска, пробега и состояния автомобиля. \\n-В наличии более 100 проверенных и готовых к продаже автомобилей. \\n-Более 80 комплектов шин, дисков, колес в сборе. \\n-Все автомобили проходят комплексную проверку - техническую, криминалистическую, проверку истории кузовных ремонтов сертифицированными специалистами. \\n-Мы предоставляем гарантию юридической чистоты в соответствии с законодательством РФ. \\n-Мы работаем каждый день с 8:00 до 22:00.\\n\\nУслуги: \\n• Срочный выкуп Вашего автомобиля \\n• Выкуп кредитных а/м \\n• Trade-in - обмен Вашего автомобиля на новый или с пробегом (возможна доплата с любой стороны) \\n• Выездная оценка Вашего а/м \\n• Комиссионная продажа (на Ваших условиях) \\n• Аукцион \\n• Кредитование \\n• Страхование КАСКО, ОСАГО \\n• Дополнительное оборудование \\n• Запасные части \\n• Сервисное обслуживание \\n• Б/У шины и диски'],\n",
       "      dtype=object)"
      ]
     },
     "execution_count": 19,
     "metadata": {},
     "output_type": "execute_result"
    }
   ],
   "source": [
    "df.description.sample(1).values"
   ]
  },
  {
   "cell_type": "markdown",
   "metadata": {},
   "source": [
    "## engineDisplacement"
   ]
  },
  {
   "cell_type": "code",
   "execution_count": 26,
   "metadata": {},
   "outputs": [
    {
     "data": {
      "text/plain": [
       "2.0 LTR    9648\n",
       "1.6 LTR    4750\n",
       "3.0 LTR    3615\n",
       "1.8 LTR    2592\n",
       "2.5 LTR    2337\n",
       "1.4 LTR    2064\n",
       "2.4 LTR    2062\n",
       "3.5 LTR    1523\n",
       "1.5 LTR     712\n",
       "1.9 LTR     609\n",
       "1.2 LTR     509\n",
       "2.9 LTR     492\n",
       "1.3 LTR     476\n",
       "4.4 LTR     396\n",
       "4.0 LTR     393\n",
       "4.5 LTR     353\n",
       "2.8 LTR     288\n",
       "3.7 LTR     277\n",
       "4.7 LTR     272\n",
       "2.1 LTR     230\n",
       "3.2 LTR     217\n",
       "2.7 LTR     207\n",
       "2.3 LTR     203\n",
       "5.7 LTR     195\n",
       "4.2 LTR     188\n",
       "5.5 LTR     167\n",
       "5.6 LTR     166\n",
       "3.6 LTR     162\n",
       "2.2 LTR     145\n",
       "4.6 LTR     142\n",
       "5.0 LTR     107\n",
       "3.3 LTR      70\n",
       "1.7 LTR      59\n",
       "0.0 LTR      59\n",
       "3.8 LTR      54\n",
       "0.7 LTR      53\n",
       "3.1 LTR      51\n",
       "4.8 LTR      46\n",
       "1.0 LTR      42\n",
       "6.0 LTR      39\n",
       "4.1 LTR      37\n",
       "3.4 LTR      35\n",
       "4.3 LTR      35\n",
       "2.6 LTR      32\n",
       "6.2 LTR      24\n",
       "5.4 LTR      22\n",
       "5.2 LTR      11\n",
       "0.6 LTR       9\n",
       "6.3 LTR       7\n",
       "5.9 LTR       7\n",
       "1.1 LTR       7\n",
       "6.6 LTR       7\n",
       "4.9 LTR       3\n",
       "5.8 LTR       2\n",
       "5.3 LTR       1\n",
       "3.9 LTR       1\n",
       "Name: engineDisplacement, dtype: int64"
      ]
     },
     "execution_count": 26,
     "metadata": {},
     "output_type": "execute_result"
    }
   ],
   "source": [
    "df.engineDisplacement.value_counts()"
   ]
  },
  {
   "cell_type": "markdown",
   "metadata": {},
   "source": [
    "## enginePower"
   ]
  },
  {
   "cell_type": "code",
   "execution_count": 27,
   "metadata": {},
   "outputs": [
    {
     "data": {
      "text/plain": [
       "249 N12    2701\n",
       "150 N12    2560\n",
       "110 N12    1258\n",
       "190 N12    1091\n",
       "140 N12    1039\n",
       "           ... \n",
       "40 N12        1\n",
       "387 N12       1\n",
       "32 N12        1\n",
       "183 N12       1\n",
       "431 N12       1\n",
       "Name: enginePower, Length: 318, dtype: int64"
      ]
     },
     "execution_count": 27,
     "metadata": {},
     "output_type": "execute_result"
    }
   ],
   "source": [
    "df.enginePower.value_counts()"
   ]
  },
  {
   "cell_type": "markdown",
   "metadata": {},
   "source": [
    "## location"
   ]
  },
  {
   "cell_type": "code",
   "execution_count": 28,
   "metadata": {},
   "outputs": [
    {
     "data": {
      "text/plain": [
       "Москва              23945\n",
       "Санкт-Петербург      2991\n",
       "Нижний Новгород       495\n",
       "Химки                 455\n",
       "Воронеж               425\n",
       "                    ...  \n",
       "Котово                  1\n",
       "Серебряные Пруды        1\n",
       "Ковылкино               1\n",
       "Советск                 1\n",
       "Полотняный Завод        1\n",
       "Name: location, Length: 745, dtype: int64"
      ]
     },
     "execution_count": 28,
     "metadata": {},
     "output_type": "execute_result"
    }
   ],
   "source": [
    "df.location.value_counts()"
   ]
  },
  {
   "cell_type": "markdown",
   "metadata": {},
   "source": [
    "## equipment_dict"
   ]
  },
  {
   "cell_type": "code",
   "execution_count": 29,
   "metadata": {},
   "outputs": [
    {
     "data": {
      "text/plain": [
       "array([\"{'cruise-control': True, 'airbag-driver': True, 'electro-window-front': True, 'light-sensor': True, 'multi-wheel': True, 'audiopreparation': True, 'xenon': True, 'airbag-passenger': True, 'front-centre-armrest': True, 'computer': True, 'roof-rails': True, 'wheel-power': True, 'rear-camera': True, 'lock': True, 'light-cleaner': True, 'airbag-rear-side': True, 'electro-window-back': True, 'start-button': True, 'ptf': True, 'rain-sensor': True, 'airbag-side': True, 'multizone-climate-control': True, 'park-assist-f': True, 'dark-interior': True, 'rear-seats-heat': True, 'leather': True, 'abs': True, 'bluetooth': True, 'front-seats-heat': True, 'wheel-leather': True, 'immo': True, 'park-assist-r': True, 'third-rear-headrest': True}\"],\n",
       "      dtype=object)"
      ]
     },
     "execution_count": 29,
     "metadata": {},
     "output_type": "execute_result"
    }
   ],
   "source": [
    "df.equipment_dict.sample(1).values"
   ]
  },
  {
   "cell_type": "markdown",
   "metadata": {},
   "source": [
    "## fuelType"
   ]
  },
  {
   "cell_type": "code",
   "execution_count": 30,
   "metadata": {},
   "outputs": [
    {
     "data": {
      "text/plain": [
       "бензин     29429\n",
       "дизель      6411\n",
       "гибрид       306\n",
       "электро       59\n",
       "Name: fuelType, dtype: int64"
      ]
     },
     "execution_count": 30,
     "metadata": {},
     "output_type": "execute_result"
    }
   ],
   "source": [
    "df.fuelType.value_counts()"
   ]
  },
  {
   "cell_type": "code",
   "execution_count": 31,
   "metadata": {},
   "outputs": [
    {
     "data": {
      "text/plain": [
       "GASOLINE    280335\n",
       "DIESEL       80815\n",
       "HYBRID        2014\n",
       "ELECTRO        218\n",
       "LPG              5\n",
       "Name: fuelType, dtype: int64"
      ]
     },
     "execution_count": 31,
     "metadata": {},
     "output_type": "execute_result"
    }
   ],
   "source": [
    "df_train.fuelType.value_counts()"
   ]
  },
  {
   "cell_type": "markdown",
   "metadata": {},
   "source": [
    "## image"
   ]
  },
  {
   "cell_type": "code",
   "execution_count": null,
   "metadata": {},
   "outputs": [],
   "source": []
  },
  {
   "cell_type": "code",
   "execution_count": 32,
   "metadata": {},
   "outputs": [
    {
     "data": {
      "text/plain": [
       "'//avatars.mds.yandex.net/get-autoru-vos/2092864/1e853bed0c81cdf5f57d0447b696ba17/small'"
      ]
     },
     "execution_count": 32,
     "metadata": {},
     "output_type": "execute_result"
    }
   ],
   "source": [
    "df.image.iloc[0]"
   ]
  },
  {
   "cell_type": "markdown",
   "metadata": {},
   "source": [
    "## mileage"
   ]
  },
  {
   "cell_type": "code",
   "execution_count": 33,
   "metadata": {},
   "outputs": [
    {
     "data": {
      "image/png": "[encoded data removed]",
      "text/plain": [
       "<Figure size 432x288 with 1 Axes>"
      ]
     },
     "metadata": {
      "needs_background": "light"
     },
     "output_type": "display_data"
    }
   ],
   "source": [
    "df.mileage.hist();"
   ]
  },
  {
   "cell_type": "markdown",
   "metadata": {},
   "source": [
    "## modelDate             "
   ]
  },
  {
   "cell_type": "code",
   "execution_count": 34,
   "metadata": {},
   "outputs": [
    {
     "data": {
      "image/png": "[encoded data removed]",
      "text/plain": [
       "<Figure size 432x288 with 1 Axes>"
      ]
     },
     "metadata": {
      "needs_background": "light"
     },
     "output_type": "display_data"
    }
   ],
   "source": [
    "df.modelDate.hist();"
   ]
  },
  {
   "cell_type": "markdown",
   "metadata": {},
   "source": [
    "## model_name"
   ]
  },
  {
   "cell_type": "code",
   "execution_count": 35,
   "metadata": {},
   "outputs": [
    {
     "data": {
      "text/plain": [
       "Octavia            1417\n",
       "Outlander          1060\n",
       "X-Trail             818\n",
       "Polo                733\n",
       "3 серии             720\n",
       "                   ... \n",
       "Verso-S               1\n",
       "Bassara               1\n",
       "LM                    1\n",
       "Terrano Regulus       1\n",
       "Caravan               1\n",
       "Name: model_name, Length: 537, dtype: int64"
      ]
     },
     "execution_count": 35,
     "metadata": {},
     "output_type": "execute_result"
    }
   ],
   "source": [
    "df.model_name.value_counts()"
   ]
  },
  {
   "cell_type": "markdown",
   "metadata": {},
   "source": [
    "## name"
   ]
  },
  {
   "cell_type": "code",
   "execution_count": 36,
   "metadata": {},
   "outputs": [
    {
     "data": {
      "text/plain": [
       "0                2.0d AT (235 л.с.) 4WD\n",
       "1                     2.5 AT (249 л.с.)\n",
       "2                 2.0 AT (249 л.с.) 4WD\n",
       "3                2.4d AT (190 л.с.) 4WD\n",
       "4                     2.4 AT (170 л.с.)\n",
       "                      ...              \n",
       "36205           3.0d AMT (245 л.с.) 4WD\n",
       "36206    45 TFSI 2.0 AMT (245 л.с.) 4WD\n",
       "36207            3.0 AMT (300 л.с.) 4WD\n",
       "36208            2.0 AMT (211 л.с.) 4WD\n",
       "36209            2.4d AT (215 л.с.) 4WD\n",
       "Name: name, Length: 36210, dtype: object"
      ]
     },
     "execution_count": 36,
     "metadata": {},
     "output_type": "execute_result"
    }
   ],
   "source": [
    "df.name"
   ]
  },
  {
   "cell_type": "markdown",
   "metadata": {},
   "source": [
    "## numberOfDoors         "
   ]
  },
  {
   "cell_type": "code",
   "execution_count": 37,
   "metadata": {},
   "outputs": [
    {
     "data": {
      "text/plain": [
       "5.0    22449\n",
       "4.0    12263\n",
       "2.0      961\n",
       "3.0      536\n",
       "0.0        1\n",
       "Name: numberOfDoors, dtype: int64"
      ]
     },
     "execution_count": 37,
     "metadata": {},
     "output_type": "execute_result"
    }
   ],
   "source": [
    "df.numberOfDoors.value_counts()"
   ]
  },
  {
   "cell_type": "markdown",
   "metadata": {},
   "source": [
    "## parsing_unixtime"
   ]
  },
  {
   "cell_type": "code",
   "execution_count": 38,
   "metadata": {},
   "outputs": [
    {
     "data": {
      "text/plain": [
       "<AxesSubplot:>"
      ]
     },
     "execution_count": 38,
     "metadata": {},
     "output_type": "execute_result"
    },
    {
     "data": {
      "image/png": "[encoded data removed]",
      "text/plain": [
       "<Figure size 432x288 with 1 Axes>"
      ]
     },
     "metadata": {
      "needs_background": "light"
     },
     "output_type": "display_data"
    }
   ],
   "source": [
    "df.parsing_unixtime.hist()"
   ]
  },
  {
   "cell_type": "markdown",
   "metadata": {},
   "source": [
    "## priceCurrency"
   ]
  },
  {
   "cell_type": "code",
   "execution_count": 39,
   "metadata": {},
   "outputs": [
    {
     "data": {
      "text/plain": [
       "RUR    36210\n",
       "Name: priceCurrency, dtype: int64"
      ]
     },
     "execution_count": 39,
     "metadata": {},
     "output_type": "execute_result"
    }
   ],
   "source": [
    "df.priceCurrency.value_counts()"
   ]
  },
  {
   "cell_type": "markdown",
   "metadata": {},
   "source": [
    "## productionDate"
   ]
  },
  {
   "cell_type": "code",
   "execution_count": 40,
   "metadata": {},
   "outputs": [
    {
     "data": {
      "image/png": "[encoded data removed]",
      "text/plain": [
       "<Figure size 432x288 with 1 Axes>"
      ]
     },
     "metadata": {
      "needs_background": "light"
     },
     "output_type": "display_data"
    }
   ],
   "source": [
    "df.productionDate.hist();"
   ]
  },
  {
   "cell_type": "markdown",
   "metadata": {},
   "source": [
    "## sell_id"
   ]
  },
  {
   "cell_type": "code",
   "execution_count": 41,
   "metadata": {},
   "outputs": [
    {
     "data": {
      "text/plain": [
       "0        1101191623-464cf4be\n",
       "1        1101345022-3e0e4f8c\n",
       "2        1100911068-4dd8f660\n",
       "3        1100336634-a6643416\n",
       "4        1101497967-8c590a51\n",
       "                ...         \n",
       "36205    1062506820-c3420f81\n",
       "36206    1101491025-4b8ebe4d\n",
       "36207    1100159814-dbcfcde7\n",
       "36208    1101243826-9f0938e2\n",
       "36209    1101393051-9b4122a2\n",
       "Name: sell_id, Length: 36210, dtype: object"
      ]
     },
     "execution_count": 41,
     "metadata": {},
     "output_type": "execute_result"
    }
   ],
   "source": [
    "df.sell_id"
   ]
  },
  {
   "cell_type": "markdown",
   "metadata": {},
   "source": [
    "## vehicleConfiguration"
   ]
  },
  {
   "cell_type": "code",
   "execution_count": 42,
   "metadata": {},
   "outputs": [
    {
     "data": {
      "text/plain": [
       "ALLROAD_5_DOORS AUTOMATIC 2.0    2314\n",
       "ALLROAD_5_DOORS AUTOMATIC 3.0    2268\n",
       "ALLROAD_5_DOORS VARIATOR 2.0     2234\n",
       "SEDAN AUTOMATIC 2.0              1607\n",
       "SEDAN MECHANICAL 1.6              992\n",
       "                                 ... \n",
       "ALLROAD_5_DOORS ROBOT 2.1           1\n",
       "ROADSTER AUTOMATIC 4.7              1\n",
       "LIFTBACK AUTOMATIC 1.4              1\n",
       "VAN AUTOMATIC 2.5                   1\n",
       "MINIVAN MECHANICAL 3.0              1\n",
       "Name: vehicleConfiguration, Length: 619, dtype: int64"
      ]
     },
     "execution_count": 42,
     "metadata": {},
     "output_type": "execute_result"
    }
   ],
   "source": [
    "df.vehicleConfiguration.value_counts()"
   ]
  },
  {
   "cell_type": "code",
   "execution_count": null,
   "metadata": {},
   "outputs": [],
   "source": []
  },
  {
   "cell_type": "markdown",
   "metadata": {},
   "source": [
    "## vehicleTransmission"
   ]
  },
  {
   "cell_type": "code",
   "execution_count": 32,
   "metadata": {},
   "outputs": [
    {
     "data": {
      "text/plain": [
       "автоматическая      24825\n",
       "механическая         8083\n",
       "роботизированная     7236\n",
       "Name: vehicleTransmission, dtype: int64"
      ]
     },
     "execution_count": 32,
     "metadata": {},
     "output_type": "execute_result"
    }
   ],
   "source": [
    "df.vehicleTransmission.value_counts()"
   ]
  },
  {
   "cell_type": "code",
   "execution_count": 44,
   "metadata": {},
   "outputs": [
    {
     "data": {
      "text/plain": [
       "AUTOMATIC     192415\n",
       "ROBOT          66037\n",
       "MECHANICAL     56086\n",
       "VARIATOR       48849\n",
       "Name: vehicleTransmission, dtype: int64"
      ]
     },
     "execution_count": 44,
     "metadata": {},
     "output_type": "execute_result"
    }
   ],
   "source": [
    "df_train.vehicleTransmission.value_counts()"
   ]
  },
  {
   "cell_type": "markdown",
   "metadata": {},
   "source": [
    "## vendor"
   ]
  },
  {
   "cell_type": "code",
   "execution_count": 108,
   "metadata": {},
   "outputs": [
    {
     "data": {
      "text/plain": [
       "EUROPEAN    17551\n",
       "JAPANESE    11330\n",
       "Name: vendor, dtype: int64"
      ]
     },
     "execution_count": 108,
     "metadata": {},
     "output_type": "execute_result"
    }
   ],
   "source": [
    "df.vendor.value_counts()"
   ]
  },
  {
   "cell_type": "markdown",
   "metadata": {},
   "source": [
    "## Другое"
   ]
  },
  {
   "cell_type": "code",
   "execution_count": 107,
   "metadata": {},
   "outputs": [
    {
     "data": {
      "text/plain": [
       "полный      14887\n",
       "передний    11702\n",
       "задний       2292\n",
       "Name: Привод, dtype: int64"
      ]
     },
     "execution_count": 107,
     "metadata": {},
     "output_type": "execute_result"
    }
   ],
   "source": [
    "df['Привод'].value_counts()"
   ]
  },
  {
   "cell_type": "code",
   "execution_count": 60,
   "metadata": {},
   "outputs": [
    {
     "data": {
      "text/plain": [
       "Левый    45204\n",
       "Name: Руль, dtype: int64"
      ]
     },
     "execution_count": 60,
     "metadata": {},
     "output_type": "execute_result"
    }
   ],
   "source": [
    "df['Руль'].value_counts()"
   ]
  },
  {
   "cell_type": "code",
   "execution_count": 61,
   "metadata": {},
   "outputs": [
    {
     "data": {
      "text/plain": [
       "Не требует ремонта    46225\n",
       "Name: Состояние, dtype: int64"
      ]
     },
     "execution_count": 61,
     "metadata": {},
     "output_type": "execute_result"
    }
   ],
   "source": [
    "df['Состояние'].value_counts()"
   ]
  },
  {
   "cell_type": "code",
   "execution_count": 45,
   "metadata": {},
   "outputs": [
    {
     "data": {
      "text/plain": [
       "3 или более    13121\n",
       "1 владелец      8738\n",
       "2 владельца     7731\n",
       "Name: Владельцы, dtype: int64"
      ]
     },
     "execution_count": 45,
     "metadata": {},
     "output_type": "execute_result"
    }
   ],
   "source": [
    "df['Владельцы'].value_counts()"
   ]
  },
  {
   "cell_type": "code",
   "execution_count": 63,
   "metadata": {},
   "outputs": [
    {
     "data": {
      "text/plain": [
       "Оригинал    42461\n",
       "Дубликат     3511\n",
       "Name: ПТС, dtype: int64"
      ]
     },
     "execution_count": 63,
     "metadata": {},
     "output_type": "execute_result"
    }
   ],
   "source": [
    "df['ПТС'].value_counts()"
   ]
  },
  {
   "cell_type": "code",
   "execution_count": 64,
   "metadata": {},
   "outputs": [
    {
     "data": {
      "text/plain": [
       "Растаможен    46225\n",
       "Name: Таможня, dtype: int64"
      ]
     },
     "execution_count": 64,
     "metadata": {},
     "output_type": "execute_result"
    }
   ],
   "source": [
    "df['Таможня'].value_counts()"
   ]
  },
  {
   "cell_type": "code",
   "execution_count": 122,
   "metadata": {},
   "outputs": [
    {
     "data": {
      "text/plain": [
       "{'year': 2019, 'month': 8}     127\n",
       "{'year': 2018, 'month': 11}    126\n",
       "{'year': 2018, 'month': 10}    119\n",
       "{'year': 2018, 'month': 12}    118\n",
       "{'year': 2019, 'month': 6}     109\n",
       "                              ... \n",
       "{'year': 2001, 'month': 5}       1\n",
       "{'year': 1991, 'month': 11}      1\n",
       "{'year': 2004, 'month': 10}      1\n",
       "{'year': 1992, 'month': 2}       1\n",
       "{'year': 2002, 'month': 1}       1\n",
       "Name: Владение, Length: 255, dtype: int64"
      ]
     },
     "execution_count": 122,
     "metadata": {},
     "output_type": "execute_result"
    }
   ],
   "source": [
    "df['Владение'].value_counts() "
   ]
  },
  {
   "cell_type": "markdown",
   "metadata": {},
   "source": [
    "## Дополнительные колонки"
   ]
  },
  {
   "cell_type": "markdown",
   "metadata": {},
   "source": [
    "### model"
   ]
  },
  {
   "cell_type": "markdown",
   "metadata": {},
   "source": [
    "## description"
   ]
  },
  {
   "cell_type": "code",
   "execution_count": 36,
   "metadata": {},
   "outputs": [
    {
     "data": {
      "text/plain": [
       "0       - выгода 60 000 рублей при покупке авто в Trad...\n",
       "1       Цена на автомобиль указана с учетом скидки от ...\n",
       "2       Цена на автомобиль указана с учетом скидки от ...\n",
       "3       РОЛЬФ - Официальный дилер и Лучший дилер Росси...\n",
       "4       Цена на автомобиль указана с учетом скидки от ...\n",
       "                              ...                        \n",
       "1350    Продажа от официального дилера Nissan Автоцент...\n",
       "1351    Один собственник! ПТС оригинал!  Отличное сост...\n",
       "1352    Nissan Armada I Внедорожник 5 дв. 5.6 AT (309 ...\n",
       "1353    ЛОТ: 01227498\\nАвтопрага Восток\\n\\nВы можете п...\n",
       "1354    Внимание! Только для клиентов AVILON Автомобил...\n",
       "Name: description, Length: 46225, dtype: object"
      ]
     },
     "execution_count": 36,
     "metadata": {},
     "output_type": "execute_result"
    }
   ],
   "source": [
    "df.description"
   ]
  },
  {
   "cell_type": "code",
   "execution_count": 68,
   "metadata": {},
   "outputs": [
    {
     "data": {
      "text/plain": [
       "0       {'id': '6937724', 'name': 'sDrive18i Локальная...\n",
       "1       {'id': '21037026', 'name': '520d xDrive', 'ava...\n",
       "2       {'id': '21485456', 'name': 'xDrive30d M Sport'...\n",
       "3                                             {'id': '0'}\n",
       "4       {'id': '21766793', 'name': '320d xDrive', 'ava...\n",
       "                              ...                        \n",
       "1350                                          {'id': '0'}\n",
       "1351                                          {'id': '0'}\n",
       "1352                                          {'id': '0'}\n",
       "1353                                          {'id': '0'}\n",
       "1354                                          {'id': '0'}\n",
       "Name: complectation_dict, Length: 46225, dtype: object"
      ]
     },
     "execution_count": 68,
     "metadata": {},
     "output_type": "execute_result"
    }
   ],
   "source": [
    "df.complectation_dict"
   ]
  },
  {
   "cell_type": "code",
   "execution_count": 69,
   "metadata": {},
   "outputs": [
    {
     "data": {
      "text/plain": [
       "0       {'esp': True, 'airbag-driver': True, 'aux': Tr...\n",
       "1       {'cruise-control': True, 'asr': True, 'esp': T...\n",
       "2       {'asr': True, 'esp': True, 'adaptive-light': T...\n",
       "3       {'asr': True, 'tinted-glass': True, 'adaptive-...\n",
       "4       {'cruise-control': True, 'asr': True, 'esp': T...\n",
       "                              ...                        \n",
       "1350    {'electro-window-back': True, 'asr': True, 'st...\n",
       "1351    {'alloy-wheel-disks': True, 'airbag-driver': T...\n",
       "1352    {'cruise-control': True, 'asr': True, 'tinted-...\n",
       "1353    {'airbag-driver': True, 'isofix': True, 'usb':...\n",
       "1354    {'cruise-control': True, 'esp': True, 'airbag-...\n",
       "Name: equipment_dict, Length: 46225, dtype: object"
      ]
     },
     "execution_count": 69,
     "metadata": {},
     "output_type": "execute_result"
    }
   ],
   "source": [
    "df.equipment_dict"
   ]
  },
  {
   "cell_type": "code",
   "execution_count": 70,
   "metadata": {},
   "outputs": [
    {
     "data": {
      "text/plain": [
       "0       {'code': 'X1', 'name': 'X1', 'ru_name': 'Х1', ...\n",
       "1       {'code': '5ER', 'name': '5 серии', 'ru_name': ...\n",
       "2       {'code': 'X4', 'name': 'X4', 'ru_name': 'Х4', ...\n",
       "3       {'code': '3ER', 'name': '3 серии', 'ru_name': ...\n",
       "4       {'code': '3ER', 'name': '3 серии', 'ru_name': ...\n",
       "                              ...                        \n",
       "1350    {'code': 'TIIDA', 'name': 'Tiida', 'ru_name': ...\n",
       "1351    {'code': 'X_TRAIL', 'name': 'X-Trail', 'ru_nam...\n",
       "1352    {'code': 'ARMADA', 'name': 'Armada', 'ru_name'...\n",
       "1353    {'code': 'NOTE', 'name': 'Note', 'ru_name': 'Н...\n",
       "1354    {'code': 'X_TRAIL', 'name': 'X-Trail', 'ru_nam...\n",
       "Name: model_info, Length: 46225, dtype: object"
      ]
     },
     "execution_count": 70,
     "metadata": {},
     "output_type": "execute_result"
    }
   ],
   "source": [
    "df.model_info"
   ]
  },
  {
   "cell_type": "code",
   "execution_count": 71,
   "metadata": {},
   "outputs": [
    {
     "data": {
      "text/plain": [
       "0       {'id': '8246645', 'name': 'I (E84) Рестайлинг'...\n",
       "1       {'id': '20856169', 'name': 'VII (G30/G31)', 'r...\n",
       "2       {'id': '21203948', 'name': 'II (G02)', 'ru_nam...\n",
       "3       {'id': '21398591', 'name': 'VII (G2x)', 'ru_na...\n",
       "4       {'id': '21398591', 'name': 'VII (G2x)', 'ru_na...\n",
       "                              ...                        \n",
       "1350    {'id': '20506271', 'name': 'II', 'ru_name': '2...\n",
       "1351    {'id': '7024112', 'name': 'II Рестайлинг', 'ru...\n",
       "1352    {'id': '20282139', 'name': 'I', 'ru_name': '1'...\n",
       "1353    {'id': '4994902', 'name': 'I Рестайлинг', 'ru_...\n",
       "1354    {'id': '3480713', 'name': 'I', 'ru_name': '1',...\n",
       "Name: super_gen, Length: 46225, dtype: object"
      ]
     },
     "execution_count": 71,
     "metadata": {},
     "output_type": "execute_result"
    }
   ],
   "source": [
    "df.super_gen"
   ]
  },
  {
   "cell_type": "code",
   "execution_count": null,
   "metadata": {},
   "outputs": [],
   "source": []
  },
  {
   "cell_type": "code",
   "execution_count": null,
   "metadata": {},
   "outputs": [],
   "source": []
  },
  {
   "cell_type": "code",
   "execution_count": null,
   "metadata": {},
   "outputs": [],
   "source": []
  },
  {
   "cell_type": "code",
   "execution_count": 101,
   "metadata": {},
   "outputs": [
    {
     "data": {
      "text/plain": [
       "(72226, 35)"
      ]
     },
     "execution_count": 101,
     "metadata": {},
     "output_type": "execute_result"
    }
   ],
   "source": [
    "df.drop_duplicates().shape"
   ]
  },
  {
   "cell_type": "code",
   "execution_count": 102,
   "metadata": {},
   "outputs": [
    {
     "data": {
      "text/plain": [
       "(99017, 35)"
      ]
     },
     "execution_count": 102,
     "metadata": {},
     "output_type": "execute_result"
    }
   ],
   "source": [
    "df.shape"
   ]
  },
  {
   "cell_type": "code",
   "execution_count": null,
   "metadata": {},
   "outputs": [],
   "source": []
  },
  {
   "cell_type": "code",
   "execution_count": null,
   "metadata": {},
   "outputs": [],
   "source": []
  },
  {
   "cell_type": "code",
   "execution_count": null,
   "metadata": {},
   "outputs": [],
   "source": []
  },
  {
   "cell_type": "code",
   "execution_count": 20,
   "metadata": {},
   "outputs": [],
   "source": [
    "df.to_csv('train.csv')"
   ]
  },
  {
   "cell_type": "code",
   "execution_count": null,
   "metadata": {},
   "outputs": [],
   "source": []
  },
  {
   "cell_type": "code",
   "execution_count": null,
   "metadata": {},
   "outputs": [],
   "source": []
  }
 ],
 "metadata": {
  "kernelspec": {
   "display_name": "Python 3",
   "language": "python",
   "name": "python3"
  },
  "language_info": {
   "codemirror_mode": {
    "name": "ipython",
    "version": 3
   },
   "file_extension": ".py",
   "mimetype": "text/x-python",
   "name": "python",
   "nbconvert_exporter": "python",
   "pygments_lexer": "ipython3",
   "version": "3.7.6"
  },
  "toc": {
   "base_numbering": 1,
   "nav_menu": {},
   "number_sections": true,
   "sideBar": true,
   "skip_h1_title": false,
   "title_cell": "Table of Contents",
   "title_sidebar": "Contents",
   "toc_cell": false,
   "toc_position": {
    "height": "calc(100% - 180px)",
    "left": "10px",
    "top": "150px",
    "width": "426.667px"
   },
   "toc_section_display": true,
   "toc_window_display": true
  },
  "varInspector": {
   "cols": {
    "lenName": 16,
    "lenType": 16,
    "lenVar": 40
   },
   "kernels_config": {
    "python": {
     "delete_cmd_postfix": "",
     "delete_cmd_prefix": "del ",
     "library": "var_list.py",
     "varRefreshCmd": "print(var_dic_list())"
    },
    "r": {
     "delete_cmd_postfix": ") ",
     "delete_cmd_prefix": "rm(",
     "library": "var_list.r",
     "varRefreshCmd": "cat(var_dic_list()) "
    }
   },
   "types_to_exclude": [
    "module",
    "function",
    "builtin_function_or_method",
    "instance",
    "_Feature"
   ],
   "window_display": false
  }
 },
 "nbformat": 4,
 "nbformat_minor": 4
}
