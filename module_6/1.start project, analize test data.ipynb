{
 "cells": [
  {
   "cell_type": "code",
   "execution_count": 1,
   "metadata": {},
   "outputs": [],
   "source": [
    "import pandas as pd\n",
    "import numpy as np\n",
    "import pandas_profiling\n",
    "import os"
   ]
  },
  {
   "cell_type": "code",
   "execution_count": 2,
   "metadata": {},
   "outputs": [],
   "source": [
    "df = pd.read_csv('test.csv')"
   ]
  },
  {
   "cell_type": "markdown",
   "metadata": {},
   "source": [
    "Взглянем на то что нам дали в тесте"
   ]
  },
  {
   "cell_type": "markdown",
   "metadata": {},
   "source": [
    "## Обзор набора тестовых данные"
   ]
  },
  {
   "cell_type": "code",
   "execution_count": 3,
   "metadata": {},
   "outputs": [
    {
     "data": {
      "text/plain": [
       "(34686, 32)"
      ]
     },
     "execution_count": 3,
     "metadata": {},
     "output_type": "execute_result"
    }
   ],
   "source": [
    "df.shape"
   ]
  },
  {
   "cell_type": "code",
   "execution_count": 4,
   "metadata": {},
   "outputs": [
    {
     "data": {
      "text/html": [
       "<div>\n",
       "<style scoped>\n",
       "    .dataframe tbody tr th:only-of-type {\n",
       "        vertical-align: middle;\n",
       "    }\n",
       "\n",
       "    .dataframe tbody tr th {\n",
       "        vertical-align: top;\n",
       "    }\n",
       "\n",
       "    .dataframe thead th {\n",
       "        text-align: right;\n",
       "    }\n",
       "</style>\n",
       "<table border=\"1\" class=\"dataframe\">\n",
       "  <thead>\n",
       "    <tr style=\"text-align: right;\">\n",
       "      <th></th>\n",
       "      <th>bodyType</th>\n",
       "      <th>brand</th>\n",
       "      <th>car_url</th>\n",
       "      <th>color</th>\n",
       "      <th>complectation_dict</th>\n",
       "      <th>description</th>\n",
       "      <th>engineDisplacement</th>\n",
       "      <th>enginePower</th>\n",
       "      <th>equipment_dict</th>\n",
       "      <th>fuelType</th>\n",
       "      <th>image</th>\n",
       "      <th>mileage</th>\n",
       "      <th>modelDate</th>\n",
       "      <th>model_info</th>\n",
       "      <th>model_name</th>\n",
       "      <th>name</th>\n",
       "      <th>numberOfDoors</th>\n",
       "      <th>parsing_unixtime</th>\n",
       "      <th>priceCurrency</th>\n",
       "      <th>productionDate</th>\n",
       "      <th>sell_id</th>\n",
       "      <th>super_gen</th>\n",
       "      <th>vehicleConfiguration</th>\n",
       "      <th>vehicleTransmission</th>\n",
       "      <th>vendor</th>\n",
       "      <th>Владельцы</th>\n",
       "      <th>Владение</th>\n",
       "      <th>ПТС</th>\n",
       "      <th>Привод</th>\n",
       "      <th>Руль</th>\n",
       "      <th>Состояние</th>\n",
       "      <th>Таможня</th>\n",
       "    </tr>\n",
       "  </thead>\n",
       "  <tbody>\n",
       "    <tr>\n",
       "      <th>0</th>\n",
       "      <td>лифтбек</td>\n",
       "      <td>SKODA</td>\n",
       "      <td>https://auto.ru/cars/used/sale/skoda/octavia/1...</td>\n",
       "      <td>синий</td>\n",
       "      <td>NaN</td>\n",
       "      <td>Все автомобили, представленные в продаже, прох...</td>\n",
       "      <td>1.2 LTR</td>\n",
       "      <td>105 N12</td>\n",
       "      <td>{\"engine-proof\":true,\"tinted-glass\":true,\"airb...</td>\n",
       "      <td>бензин</td>\n",
       "      <td>https://autoru.naydex.net/o9DBXQ270/5ac010hAY0...</td>\n",
       "      <td>74000</td>\n",
       "      <td>2013</td>\n",
       "      <td>{\"code\":\"OCTAVIA\",\"name\":\"Octavia\",\"ru_name\":\"...</td>\n",
       "      <td>OCTAVIA</td>\n",
       "      <td>1.2 AMT (105 л.с.)</td>\n",
       "      <td>5</td>\n",
       "      <td>1603226273</td>\n",
       "      <td>RUB</td>\n",
       "      <td>2014</td>\n",
       "      <td>1100575026</td>\n",
       "      <td>{\"id\":\"10373605\",\"displacement\":1197,\"engine_t...</td>\n",
       "      <td>LIFTBACK ROBOT 1.2</td>\n",
       "      <td>роботизированная</td>\n",
       "      <td>EUROPEAN</td>\n",
       "      <td>3 или более</td>\n",
       "      <td>NaN</td>\n",
       "      <td>Оригинал</td>\n",
       "      <td>передний</td>\n",
       "      <td>Левый</td>\n",
       "      <td>Не требует ремонта</td>\n",
       "      <td>Растаможен</td>\n",
       "    </tr>\n",
       "    <tr>\n",
       "      <th>1</th>\n",
       "      <td>лифтбек</td>\n",
       "      <td>SKODA</td>\n",
       "      <td>https://auto.ru/cars/used/sale/skoda/octavia/1...</td>\n",
       "      <td>чёрный</td>\n",
       "      <td>NaN</td>\n",
       "      <td>ЛОТ: 01217195\\nАвтопрага Север\\nДанный автомоб...</td>\n",
       "      <td>1.6 LTR</td>\n",
       "      <td>110 N12</td>\n",
       "      <td>{\"cruise-control\":true,\"asr\":true,\"esp\":true,\"...</td>\n",
       "      <td>бензин</td>\n",
       "      <td>https://autoru.naydex.net/o9DBXQ270/5ac010hAY0...</td>\n",
       "      <td>60563</td>\n",
       "      <td>2017</td>\n",
       "      <td>{\"code\":\"OCTAVIA\",\"name\":\"Octavia\",\"ru_name\":\"...</td>\n",
       "      <td>OCTAVIA</td>\n",
       "      <td>1.6 MT (110 л.с.)</td>\n",
       "      <td>5</td>\n",
       "      <td>1603226277</td>\n",
       "      <td>RUB</td>\n",
       "      <td>2017</td>\n",
       "      <td>1100549428</td>\n",
       "      <td>{\"id\":\"20913311\",\"displacement\":1598,\"engine_t...</td>\n",
       "      <td>LIFTBACK MECHANICAL 1.6</td>\n",
       "      <td>механическая</td>\n",
       "      <td>EUROPEAN</td>\n",
       "      <td>1 владелец</td>\n",
       "      <td>NaN</td>\n",
       "      <td>Оригинал</td>\n",
       "      <td>передний</td>\n",
       "      <td>Левый</td>\n",
       "      <td>Не требует ремонта</td>\n",
       "      <td>Растаможен</td>\n",
       "    </tr>\n",
       "    <tr>\n",
       "      <th>2</th>\n",
       "      <td>лифтбек</td>\n",
       "      <td>SKODA</td>\n",
       "      <td>https://auto.ru/cars/used/sale/skoda/superb/11...</td>\n",
       "      <td>серый</td>\n",
       "      <td>{\"id\":\"20026336\",\"name\":\"Ambition\",\"available_...</td>\n",
       "      <td>Все автомобили, представленные в продаже, прох...</td>\n",
       "      <td>1.8 LTR</td>\n",
       "      <td>152 N12</td>\n",
       "      <td>{\"cruise-control\":true,\"tinted-glass\":true,\"es...</td>\n",
       "      <td>бензин</td>\n",
       "      <td>https://avatars.mds.yandex.net/get-autoru-vos/...</td>\n",
       "      <td>88000</td>\n",
       "      <td>2013</td>\n",
       "      <td>{\"code\":\"SUPERB\",\"name\":\"Superb\",\"ru_name\":\"Су...</td>\n",
       "      <td>SUPERB</td>\n",
       "      <td>DSG 1.8 AMT (152 л.с.)</td>\n",
       "      <td>5</td>\n",
       "      <td>1603226280</td>\n",
       "      <td>RUB</td>\n",
       "      <td>2014</td>\n",
       "      <td>1100658222</td>\n",
       "      <td>{\"id\":\"20026323\",\"nameplate\":\"DSG\",\"displaceme...</td>\n",
       "      <td>LIFTBACK ROBOT 1.8</td>\n",
       "      <td>роботизированная</td>\n",
       "      <td>EUROPEAN</td>\n",
       "      <td>1 владелец</td>\n",
       "      <td>NaN</td>\n",
       "      <td>Оригинал</td>\n",
       "      <td>передний</td>\n",
       "      <td>Левый</td>\n",
       "      <td>Не требует ремонта</td>\n",
       "      <td>Растаможен</td>\n",
       "    </tr>\n",
       "    <tr>\n",
       "      <th>3</th>\n",
       "      <td>лифтбек</td>\n",
       "      <td>SKODA</td>\n",
       "      <td>https://auto.ru/cars/used/sale/skoda/octavia/1...</td>\n",
       "      <td>коричневый</td>\n",
       "      <td>{\"id\":\"20803582\",\"name\":\"Ambition\",\"available_...</td>\n",
       "      <td>КОМПЛЕКТ ЗИМНЕЙ (ЛЕТНЕЙ) РЕЗИНЫ ПО СЕЗОНУ В ПО...</td>\n",
       "      <td>1.6 LTR</td>\n",
       "      <td>110 N12</td>\n",
       "      <td>{\"cruise-control\":true,\"roller-blind-for-rear-...</td>\n",
       "      <td>бензин</td>\n",
       "      <td>https://autoru.naydex.net/o9DBXQ270/5ac010hAY0...</td>\n",
       "      <td>95000</td>\n",
       "      <td>2013</td>\n",
       "      <td>{\"code\":\"OCTAVIA\",\"name\":\"Octavia\",\"ru_name\":\"...</td>\n",
       "      <td>OCTAVIA</td>\n",
       "      <td>1.6 AT (110 л.с.)</td>\n",
       "      <td>5</td>\n",
       "      <td>1603226284</td>\n",
       "      <td>RUB</td>\n",
       "      <td>2014</td>\n",
       "      <td>1100937408</td>\n",
       "      <td>{\"id\":\"20105521\",\"displacement\":1598,\"engine_t...</td>\n",
       "      <td>LIFTBACK AUTOMATIC 1.6</td>\n",
       "      <td>автоматическая</td>\n",
       "      <td>EUROPEAN</td>\n",
       "      <td>1 владелец</td>\n",
       "      <td>NaN</td>\n",
       "      <td>Оригинал</td>\n",
       "      <td>передний</td>\n",
       "      <td>Левый</td>\n",
       "      <td>Не требует ремонта</td>\n",
       "      <td>Растаможен</td>\n",
       "    </tr>\n",
       "    <tr>\n",
       "      <th>4</th>\n",
       "      <td>лифтбек</td>\n",
       "      <td>SKODA</td>\n",
       "      <td>https://auto.ru/cars/used/sale/skoda/octavia/1...</td>\n",
       "      <td>белый</td>\n",
       "      <td>NaN</td>\n",
       "      <td>ЛОТ: 01220889\\nАвтопрага Север\\n\\nВы можете по...</td>\n",
       "      <td>1.8 LTR</td>\n",
       "      <td>152 N12</td>\n",
       "      <td>{\"cruise-control\":true,\"asr\":true,\"esp\":true,\"...</td>\n",
       "      <td>бензин</td>\n",
       "      <td>https://autoru.naydex.net/o9DBXQ270/5ac010hAY0...</td>\n",
       "      <td>58536</td>\n",
       "      <td>2008</td>\n",
       "      <td>{\"code\":\"OCTAVIA\",\"name\":\"Octavia\",\"ru_name\":\"...</td>\n",
       "      <td>OCTAVIA</td>\n",
       "      <td>1.8 AT (152 л.с.)</td>\n",
       "      <td>5</td>\n",
       "      <td>1603226288</td>\n",
       "      <td>RUB</td>\n",
       "      <td>2012</td>\n",
       "      <td>1101037972</td>\n",
       "      <td>{\"id\":\"4561004\",\"displacement\":1798,\"engine_ty...</td>\n",
       "      <td>LIFTBACK AUTOMATIC 1.8</td>\n",
       "      <td>автоматическая</td>\n",
       "      <td>EUROPEAN</td>\n",
       "      <td>1 владелец</td>\n",
       "      <td>NaN</td>\n",
       "      <td>Оригинал</td>\n",
       "      <td>передний</td>\n",
       "      <td>Левый</td>\n",
       "      <td>Не требует ремонта</td>\n",
       "      <td>Растаможен</td>\n",
       "    </tr>\n",
       "  </tbody>\n",
       "</table>\n",
       "</div>"
      ],
      "text/plain": [
       "  bodyType  brand                                            car_url  \\\n",
       "0  лифтбек  SKODA  https://auto.ru/cars/used/sale/skoda/octavia/1...   \n",
       "1  лифтбек  SKODA  https://auto.ru/cars/used/sale/skoda/octavia/1...   \n",
       "2  лифтбек  SKODA  https://auto.ru/cars/used/sale/skoda/superb/11...   \n",
       "3  лифтбек  SKODA  https://auto.ru/cars/used/sale/skoda/octavia/1...   \n",
       "4  лифтбек  SKODA  https://auto.ru/cars/used/sale/skoda/octavia/1...   \n",
       "\n",
       "        color                                 complectation_dict  \\\n",
       "0       синий                                                NaN   \n",
       "1      чёрный                                                NaN   \n",
       "2       серый  {\"id\":\"20026336\",\"name\":\"Ambition\",\"available_...   \n",
       "3  коричневый  {\"id\":\"20803582\",\"name\":\"Ambition\",\"available_...   \n",
       "4       белый                                                NaN   \n",
       "\n",
       "                                         description engineDisplacement  \\\n",
       "0  Все автомобили, представленные в продаже, прох...            1.2 LTR   \n",
       "1  ЛОТ: 01217195\\nАвтопрага Север\\nДанный автомоб...            1.6 LTR   \n",
       "2  Все автомобили, представленные в продаже, прох...            1.8 LTR   \n",
       "3  КОМПЛЕКТ ЗИМНЕЙ (ЛЕТНЕЙ) РЕЗИНЫ ПО СЕЗОНУ В ПО...            1.6 LTR   \n",
       "4  ЛОТ: 01220889\\nАвтопрага Север\\n\\nВы можете по...            1.8 LTR   \n",
       "\n",
       "  enginePower                                     equipment_dict fuelType  \\\n",
       "0     105 N12  {\"engine-proof\":true,\"tinted-glass\":true,\"airb...   бензин   \n",
       "1     110 N12  {\"cruise-control\":true,\"asr\":true,\"esp\":true,\"...   бензин   \n",
       "2     152 N12  {\"cruise-control\":true,\"tinted-glass\":true,\"es...   бензин   \n",
       "3     110 N12  {\"cruise-control\":true,\"roller-blind-for-rear-...   бензин   \n",
       "4     152 N12  {\"cruise-control\":true,\"asr\":true,\"esp\":true,\"...   бензин   \n",
       "\n",
       "                                               image  mileage  modelDate  \\\n",
       "0  https://autoru.naydex.net/o9DBXQ270/5ac010hAY0...    74000       2013   \n",
       "1  https://autoru.naydex.net/o9DBXQ270/5ac010hAY0...    60563       2017   \n",
       "2  https://avatars.mds.yandex.net/get-autoru-vos/...    88000       2013   \n",
       "3  https://autoru.naydex.net/o9DBXQ270/5ac010hAY0...    95000       2013   \n",
       "4  https://autoru.naydex.net/o9DBXQ270/5ac010hAY0...    58536       2008   \n",
       "\n",
       "                                          model_info model_name  \\\n",
       "0  {\"code\":\"OCTAVIA\",\"name\":\"Octavia\",\"ru_name\":\"...    OCTAVIA   \n",
       "1  {\"code\":\"OCTAVIA\",\"name\":\"Octavia\",\"ru_name\":\"...    OCTAVIA   \n",
       "2  {\"code\":\"SUPERB\",\"name\":\"Superb\",\"ru_name\":\"Су...     SUPERB   \n",
       "3  {\"code\":\"OCTAVIA\",\"name\":\"Octavia\",\"ru_name\":\"...    OCTAVIA   \n",
       "4  {\"code\":\"OCTAVIA\",\"name\":\"Octavia\",\"ru_name\":\"...    OCTAVIA   \n",
       "\n",
       "                     name  numberOfDoors  parsing_unixtime priceCurrency  \\\n",
       "0      1.2 AMT (105 л.с.)              5        1603226273           RUB   \n",
       "1       1.6 MT (110 л.с.)              5        1603226277           RUB   \n",
       "2  DSG 1.8 AMT (152 л.с.)              5        1603226280           RUB   \n",
       "3       1.6 AT (110 л.с.)              5        1603226284           RUB   \n",
       "4       1.8 AT (152 л.с.)              5        1603226288           RUB   \n",
       "\n",
       "   productionDate     sell_id  \\\n",
       "0            2014  1100575026   \n",
       "1            2017  1100549428   \n",
       "2            2014  1100658222   \n",
       "3            2014  1100937408   \n",
       "4            2012  1101037972   \n",
       "\n",
       "                                           super_gen     vehicleConfiguration  \\\n",
       "0  {\"id\":\"10373605\",\"displacement\":1197,\"engine_t...       LIFTBACK ROBOT 1.2   \n",
       "1  {\"id\":\"20913311\",\"displacement\":1598,\"engine_t...  LIFTBACK MECHANICAL 1.6   \n",
       "2  {\"id\":\"20026323\",\"nameplate\":\"DSG\",\"displaceme...       LIFTBACK ROBOT 1.8   \n",
       "3  {\"id\":\"20105521\",\"displacement\":1598,\"engine_t...   LIFTBACK AUTOMATIC 1.6   \n",
       "4  {\"id\":\"4561004\",\"displacement\":1798,\"engine_ty...   LIFTBACK AUTOMATIC 1.8   \n",
       "\n",
       "  vehicleTransmission    vendor    Владельцы Владение       ПТС    Привод  \\\n",
       "0    роботизированная  EUROPEAN  3 или более      NaN  Оригинал  передний   \n",
       "1        механическая  EUROPEAN   1 владелец      NaN  Оригинал  передний   \n",
       "2    роботизированная  EUROPEAN   1 владелец      NaN  Оригинал  передний   \n",
       "3      автоматическая  EUROPEAN   1 владелец      NaN  Оригинал  передний   \n",
       "4      автоматическая  EUROPEAN   1 владелец      NaN  Оригинал  передний   \n",
       "\n",
       "    Руль           Состояние     Таможня  \n",
       "0  Левый  Не требует ремонта  Растаможен  \n",
       "1  Левый  Не требует ремонта  Растаможен  \n",
       "2  Левый  Не требует ремонта  Растаможен  \n",
       "3  Левый  Не требует ремонта  Растаможен  \n",
       "4  Левый  Не требует ремонта  Растаможен  "
      ]
     },
     "metadata": {},
     "output_type": "display_data"
    }
   ],
   "source": [
    "with pd.option_context('display.max_rows', None, 'display.max_columns', None):\n",
    "    display(df.head())"
   ]
  },
  {
   "cell_type": "code",
   "execution_count": 5,
   "metadata": {},
   "outputs": [
    {
     "data": {
      "text/plain": [
       "Index(['bodyType', 'brand', 'car_url', 'color', 'complectation_dict',\n",
       "       'description', 'engineDisplacement', 'enginePower', 'equipment_dict',\n",
       "       'fuelType', 'image', 'mileage', 'modelDate', 'model_info', 'model_name',\n",
       "       'name', 'numberOfDoors', 'parsing_unixtime', 'priceCurrency',\n",
       "       'productionDate', 'sell_id', 'super_gen', 'vehicleConfiguration',\n",
       "       'vehicleTransmission', 'vendor', 'Владельцы', 'Владение', 'ПТС',\n",
       "       'Привод', 'Руль', 'Состояние', 'Таможня'],\n",
       "      dtype='object')"
      ]
     },
     "execution_count": 5,
     "metadata": {},
     "output_type": "execute_result"
    }
   ],
   "source": [
    "df.columns"
   ]
  },
  {
   "cell_type": "code",
   "execution_count": 6,
   "metadata": {},
   "outputs": [
    {
     "name": "stdout",
     "output_type": "stream",
     "text": [
      "<class 'pandas.core.frame.DataFrame'>\n",
      "RangeIndex: 34686 entries, 0 to 34685\n",
      "Data columns (total 32 columns):\n",
      " #   Column                Non-Null Count  Dtype \n",
      "---  ------                --------------  ----- \n",
      " 0   bodyType              34686 non-null  object\n",
      " 1   brand                 34686 non-null  object\n",
      " 2   car_url               34686 non-null  object\n",
      " 3   color                 34686 non-null  object\n",
      " 4   complectation_dict    6418 non-null   object\n",
      " 5   description           34686 non-null  object\n",
      " 6   engineDisplacement    34686 non-null  object\n",
      " 7   enginePower           34686 non-null  object\n",
      " 8   equipment_dict        24690 non-null  object\n",
      " 9   fuelType              34686 non-null  object\n",
      " 10  image                 34686 non-null  object\n",
      " 11  mileage               34686 non-null  int64 \n",
      " 12  modelDate             34686 non-null  int64 \n",
      " 13  model_info            34686 non-null  object\n",
      " 14  model_name            34686 non-null  object\n",
      " 15  name                  34686 non-null  object\n",
      " 16  numberOfDoors         34686 non-null  int64 \n",
      " 17  parsing_unixtime      34686 non-null  int64 \n",
      " 18  priceCurrency         34686 non-null  object\n",
      " 19  productionDate        34686 non-null  int64 \n",
      " 20  sell_id               34686 non-null  int64 \n",
      " 21  super_gen             34686 non-null  object\n",
      " 22  vehicleConfiguration  34686 non-null  object\n",
      " 23  vehicleTransmission   34686 non-null  object\n",
      " 24  vendor                34686 non-null  object\n",
      " 25  Владельцы             34686 non-null  object\n",
      " 26  Владение              11995 non-null  object\n",
      " 27  ПТС                   34685 non-null  object\n",
      " 28  Привод                34686 non-null  object\n",
      " 29  Руль                  34686 non-null  object\n",
      " 30  Состояние             34686 non-null  object\n",
      " 31  Таможня               34686 non-null  object\n",
      "dtypes: int64(6), object(26)\n",
      "memory usage: 8.5+ MB\n"
     ]
    }
   ],
   "source": [
    "df.info()"
   ]
  },
  {
   "cell_type": "code",
   "execution_count": 7,
   "metadata": {},
   "outputs": [
    {
     "data": {
      "text/plain": [
       "bodyType                    0\n",
       "brand                       0\n",
       "car_url                     0\n",
       "color                       0\n",
       "complectation_dict      28268\n",
       "description                 0\n",
       "engineDisplacement          0\n",
       "enginePower                 0\n",
       "equipment_dict           9996\n",
       "fuelType                    0\n",
       "image                       0\n",
       "mileage                     0\n",
       "modelDate                   0\n",
       "model_info                  0\n",
       "model_name                  0\n",
       "name                        0\n",
       "numberOfDoors               0\n",
       "parsing_unixtime            0\n",
       "priceCurrency               0\n",
       "productionDate              0\n",
       "sell_id                     0\n",
       "super_gen                   0\n",
       "vehicleConfiguration        0\n",
       "vehicleTransmission         0\n",
       "vendor                      0\n",
       "Владельцы                   0\n",
       "Владение                22691\n",
       "ПТС                         1\n",
       "Привод                      0\n",
       "Руль                        0\n",
       "Состояние                   0\n",
       "Таможня                     0\n",
       "dtype: int64"
      ]
     },
     "execution_count": 7,
     "metadata": {},
     "output_type": "execute_result"
    }
   ],
   "source": [
    "df.isna().sum()"
   ]
  },
  {
   "cell_type": "markdown",
   "metadata": {},
   "source": [
    "Колонки с пропусками:\n",
    "- ПТС\n",
    "- Владение\n",
    "- complectation_dict\n",
    "- equipment_dict"
   ]
  },
  {
   "cell_type": "code",
   "execution_count": 8,
   "metadata": {},
   "outputs": [
    {
     "data": {
      "text/plain": [
       "bodyType                   24\n",
       "brand                      12\n",
       "car_url                 34686\n",
       "color                      16\n",
       "complectation_dict       2364\n",
       "description             31732\n",
       "engineDisplacement         55\n",
       "enginePower               315\n",
       "equipment_dict          23705\n",
       "fuelType                    5\n",
       "image                   34557\n",
       "mileage                 11268\n",
       "modelDate                  66\n",
       "model_info                954\n",
       "model_name                544\n",
       "name                     2780\n",
       "numberOfDoors               5\n",
       "parsing_unixtime        34686\n",
       "priceCurrency               1\n",
       "productionDate             69\n",
       "sell_id                 34686\n",
       "super_gen                5890\n",
       "vehicleConfiguration      634\n",
       "vehicleTransmission         4\n",
       "vendor                      2\n",
       "Владельцы                   3\n",
       "Владение                  275\n",
       "ПТС                         2\n",
       "Привод                      3\n",
       "Руль                        2\n",
       "Состояние                   1\n",
       "Таможня                     1\n",
       "dtype: int64"
      ]
     },
     "execution_count": 8,
     "metadata": {},
     "output_type": "execute_result"
    }
   ],
   "source": [
    "df.nunique(axis=0)"
   ]
  },
  {
   "cell_type": "markdown",
   "metadata": {},
   "source": [
    "## Анализируем колонки"
   ]
  },
  {
   "cell_type": "markdown",
   "metadata": {},
   "source": [
    "### bodyType"
   ]
  },
  {
   "cell_type": "code",
   "execution_count": 9,
   "metadata": {},
   "outputs": [
    {
     "data": {
      "text/plain": [
       "седан                      13147\n",
       "внедорожник 5 дв.          12228\n",
       "лифтбек                     2232\n",
       "хэтчбек 5 дв.               2124\n",
       "универсал 5 дв.             1276\n",
       "минивэн                      995\n",
       "купе                         824\n",
       "компактвэн                   489\n",
       "хэтчбек 3 дв.                485\n",
       "пикап двойная кабина         280\n",
       "купе-хардтоп                 158\n",
       "внедорожник 3 дв.            115\n",
       "родстер                       99\n",
       "фургон                        97\n",
       "кабриолет                     90\n",
       "седан-хардтоп                 12\n",
       "микровэн                       7\n",
       "седан 2 дв.                    6\n",
       "лимузин                        6\n",
       "пикап одинарная кабина         5\n",
       "пикап полуторная кабина        5\n",
       "внедорожник открытый           3\n",
       "тарга                          2\n",
       "фастбек                        1\n",
       "Name: bodyType, dtype: int64"
      ]
     },
     "execution_count": 9,
     "metadata": {},
     "output_type": "execute_result"
    }
   ],
   "source": [
    "df.bodyType.value_counts()"
   ]
  },
  {
   "cell_type": "markdown",
   "metadata": {},
   "source": [
    "### brand"
   ]
  },
  {
   "cell_type": "code",
   "execution_count": 10,
   "metadata": {},
   "outputs": [
    {
     "data": {
      "text/plain": [
       "{'BMW': 4473,\n",
       " 'VOLKSWAGEN': 4404,\n",
       " 'NISSAN': 4393,\n",
       " 'MERCEDES': 4180,\n",
       " 'TOYOTA': 3913,\n",
       " 'AUDI': 3421,\n",
       " 'MITSUBISHI': 2843,\n",
       " 'SKODA': 2741,\n",
       " 'VOLVO': 1463,\n",
       " 'HONDA': 1150,\n",
       " 'INFINITI': 871,\n",
       " 'LEXUS': 834}"
      ]
     },
     "execution_count": 10,
     "metadata": {},
     "output_type": "execute_result"
    }
   ],
   "source": [
    "df.brand.value_counts().to_dict()"
   ]
  },
  {
   "cell_type": "code",
   "execution_count": 11,
   "metadata": {},
   "outputs": [
    {
     "data": {
      "text/plain": [
       "12"
      ]
     },
     "execution_count": 11,
     "metadata": {},
     "output_type": "execute_result"
    }
   ],
   "source": [
    "df.brand.nunique()"
   ]
  },
  {
   "cell_type": "markdown",
   "metadata": {},
   "source": [
    "### car_url                     "
   ]
  },
  {
   "cell_type": "code",
   "execution_count": 12,
   "metadata": {},
   "outputs": [
    {
     "data": {
      "text/plain": [
       "0    https://auto.ru/cars/used/sale/skoda/octavia/1...\n",
       "1    https://auto.ru/cars/used/sale/skoda/octavia/1...\n",
       "2    https://auto.ru/cars/used/sale/skoda/superb/11...\n",
       "3    https://auto.ru/cars/used/sale/skoda/octavia/1...\n",
       "4    https://auto.ru/cars/used/sale/skoda/octavia/1...\n",
       "Name: car_url, dtype: object"
      ]
     },
     "execution_count": 12,
     "metadata": {},
     "output_type": "execute_result"
    }
   ],
   "source": [
    "df.car_url.head()"
   ]
  },
  {
   "cell_type": "markdown",
   "metadata": {},
   "source": [
    "ссылка на объявление  \n",
    "из ссылки можно модель получить, если нету отдельноу"
   ]
  },
  {
   "cell_type": "code",
   "execution_count": 13,
   "metadata": {},
   "outputs": [
    {
     "data": {
      "text/plain": [
       "skoda/octavia    1455\n",
       "volkswagen/pa     934\n",
       "toyota/land_c     901\n",
       "mitsubishi/la     875\n",
       "mercedes/e_kl     845\n",
       "                 ... \n",
       "bmw/5er/10770       1\n",
       "bmw/5er/10805       1\n",
       "bmw/x6/109491       1\n",
       "audi/a3/10964       1\n",
       "audi/r8/10970       1\n",
       "Name: car_url, Length: 3008, dtype: int64"
      ]
     },
     "execution_count": 13,
     "metadata": {},
     "output_type": "execute_result"
    }
   ],
   "source": [
    "df.car_url.str.slice(31,44).value_counts()"
   ]
  },
  {
   "cell_type": "code",
   "execution_count": 14,
   "metadata": {},
   "outputs": [
    {
     "data": {
      "text/plain": [
       "'https://auto.ru/cars/used/sale/skoda/octavia/1100575026-c780dc09/'"
      ]
     },
     "execution_count": 14,
     "metadata": {},
     "output_type": "execute_result"
    }
   ],
   "source": [
    "df.car_url.loc[0]"
   ]
  },
  {
   "cell_type": "markdown",
   "metadata": {},
   "source": [
    "### color"
   ]
  },
  {
   "cell_type": "code",
   "execution_count": 77,
   "metadata": {},
   "outputs": [
    {
     "data": {
      "text/plain": [
       "чёрный         11010\n",
       "белый           6133\n",
       "серебристый     4113\n",
       "серый           3984\n",
       "синий           3289\n",
       "красный         1531\n",
       "коричневый      1501\n",
       "зелёный          952\n",
       "бежевый          639\n",
       "голубой          457\n",
       "золотистый       266\n",
       "пурпурный        254\n",
       "фиолетовый       219\n",
       "жёлтый           194\n",
       "оранжевый        131\n",
       "розовый           13\n",
       "Name: color, dtype: int64"
      ]
     },
     "execution_count": 77,
     "metadata": {},
     "output_type": "execute_result"
    }
   ],
   "source": [
    "df.color.value_counts()"
   ]
  },
  {
   "cell_type": "markdown",
   "metadata": {},
   "source": [
    "json информация надо его распарсить подумать что можно взять дополнительно"
   ]
  },
  {
   "cell_type": "markdown",
   "metadata": {},
   "source": [
    "просто описание объявления"
   ]
  },
  {
   "cell_type": "markdown",
   "metadata": {},
   "source": [
    "### engineDisplacement"
   ]
  },
  {
   "cell_type": "code",
   "execution_count": 78,
   "metadata": {},
   "outputs": [
    {
     "data": {
      "text/plain": [
       "2.0 LTR    7391\n",
       "1.6 LTR    4973\n",
       "3.0 LTR    3915\n",
       "1.8 LTR    3349\n",
       "2.5 LTR    2477\n",
       "2.4 LTR    1745\n",
       "3.5 LTR    1710\n",
       "1.4 LTR    1635\n",
       "1.5 LTR     725\n",
       "1.2 LTR     485\n",
       "4.4 LTR     447\n",
       "2.8 LTR     384\n",
       "4.7 LTR     377\n",
       "1.3 LTR     365\n",
       "5.5 LTR     361\n",
       "4.0 LTR     356\n",
       "3.2 LTR     348\n",
       "4.5 LTR     346\n",
       "2.1 LTR     271\n",
       "3.7 LTR     242\n",
       "2.2 LTR     236\n",
       "4.2 LTR     228\n",
       "1.9 LTR     221\n",
       "2.3 LTR     203\n",
       "2.7 LTR     189\n",
       "3.6 LTR     183\n",
       "5.6 LTR     170\n",
       "5.0 LTR     158\n",
       "5.7 LTR     135\n",
       "2.9 LTR     131\n",
       "4.6 LTR     108\n",
       "3.1 LTR      88\n",
       "4.8 LTR      84\n",
       "1.7 LTR      59\n",
       "1.0 LTR      57\n",
       "3.8 LTR      57\n",
       "2.6 LTR      55\n",
       " LTR         55\n",
       "0.7 LTR      53\n",
       "6.0 LTR      53\n",
       "3.3 LTR      44\n",
       "3.4 LTR      36\n",
       "4.1 LTR      35\n",
       "4.3 LTR      32\n",
       "5.4 LTR      31\n",
       "6.2 LTR      28\n",
       "5.9 LTR      12\n",
       "5.2 LTR      12\n",
       "6.3 LTR       8\n",
       "5.8 LTR       7\n",
       "6.6 LTR       6\n",
       "4.9 LTR       4\n",
       "1.1 LTR       4\n",
       "3.9 LTR       1\n",
       "5.3 LTR       1\n",
       "Name: engineDisplacement, dtype: int64"
      ]
     },
     "execution_count": 78,
     "metadata": {},
     "output_type": "execute_result"
    }
   ],
   "source": [
    "df.engineDisplacement.value_counts()"
   ]
  },
  {
   "cell_type": "markdown",
   "metadata": {},
   "source": [
    "### enginePower"
   ]
  },
  {
   "cell_type": "code",
   "execution_count": 79,
   "metadata": {},
   "outputs": [
    {
     "data": {
      "text/plain": [
       "249 N12    1708\n",
       "150 N12    1699\n",
       "110 N12    1039\n",
       "170 N12     977\n",
       "105 N12     955\n",
       "           ... \n",
       "42 N12        1\n",
       "383 N12       1\n",
       "61 N12        1\n",
       "639 N12       1\n",
       "522 N12       1\n",
       "Name: enginePower, Length: 315, dtype: int64"
      ]
     },
     "execution_count": 79,
     "metadata": {},
     "output_type": "execute_result"
    }
   ],
   "source": [
    "df.enginePower.value_counts()"
   ]
  },
  {
   "cell_type": "markdown",
   "metadata": {},
   "source": [
    "### fuelType"
   ]
  },
  {
   "cell_type": "code",
   "execution_count": 80,
   "metadata": {},
   "outputs": [
    {
     "data": {
      "text/plain": [
       "бензин     28601\n",
       "дизель      5800\n",
       "гибрид       223\n",
       "электро       55\n",
       "газ            7\n",
       "Name: fuelType, dtype: int64"
      ]
     },
     "execution_count": 80,
     "metadata": {},
     "output_type": "execute_result"
    }
   ],
   "source": [
    "df.fuelType.value_counts()"
   ]
  },
  {
   "cell_type": "markdown",
   "metadata": {},
   "source": [
    "### image"
   ]
  },
  {
   "cell_type": "code",
   "execution_count": 81,
   "metadata": {},
   "outputs": [
    {
     "data": {
      "text/plain": [
       "0    https://autoru.naydex.net/o9DBXQ270/5ac010hAY0...\n",
       "1    https://autoru.naydex.net/o9DBXQ270/5ac010hAY0...\n",
       "2    https://avatars.mds.yandex.net/get-autoru-vos/...\n",
       "3    https://autoru.naydex.net/o9DBXQ270/5ac010hAY0...\n",
       "4    https://autoru.naydex.net/o9DBXQ270/5ac010hAY0...\n",
       "Name: image, dtype: object"
      ]
     },
     "execution_count": 81,
     "metadata": {},
     "output_type": "execute_result"
    }
   ],
   "source": [
    "df.image.head()"
   ]
  },
  {
   "cell_type": "code",
   "execution_count": 15,
   "metadata": {},
   "outputs": [
    {
     "data": {
      "text/plain": [
       "'https://autoru.naydex.net/o9DBXQ270/5ac010hAY0/Xkcrbmf2u0IghxJHqVi5dGL7OcugpPbM0sYLDhB9YWw7CxRKU17ysuJYxu9oaUHn7ahNSrqiKwm-CQDyDolDeEoEc3J49fgWYNYBUbQC7D96sj6K9_O-mo6XT34oWVQDBTEybGZikaX4X4bwLyUujf_KICqw3ygs2UNJlXu4Og#DSD'"
      ]
     },
     "execution_count": 15,
     "metadata": {},
     "output_type": "execute_result"
    }
   ],
   "source": [
    "df.image.loc[0]"
   ]
  },
  {
   "cell_type": "markdown",
   "metadata": {},
   "source": [
    "### mileage                 "
   ]
  },
  {
   "cell_type": "code",
   "execution_count": 82,
   "metadata": {},
   "outputs": [
    {
     "data": {
      "text/plain": [
       "<AxesSubplot:>"
      ]
     },
     "execution_count": 82,
     "metadata": {},
     "output_type": "execute_result"
    },
    {
     "data": {
      "image/png": "[encoded data removed]",
      "text/plain": [
       "<Figure size 432x288 with 1 Axes>"
      ]
     },
     "metadata": {
      "needs_background": "light"
     },
     "output_type": "display_data"
    }
   ],
   "source": [
    "df.mileage.hist()"
   ]
  },
  {
   "cell_type": "markdown",
   "metadata": {},
   "source": [
    "### modelDate"
   ]
  },
  {
   "cell_type": "code",
   "execution_count": 83,
   "metadata": {},
   "outputs": [
    {
     "data": {
      "image/png": "[encoded data removed]",
      "text/plain": [
       "<Figure size 432x288 with 1 Axes>"
      ]
     },
     "metadata": {
      "needs_background": "light"
     },
     "output_type": "display_data"
    }
   ],
   "source": [
    "df.modelDate.hist();"
   ]
  },
  {
   "cell_type": "markdown",
   "metadata": {},
   "source": [
    "### model_name"
   ]
  },
  {
   "cell_type": "code",
   "execution_count": 84,
   "metadata": {},
   "outputs": [
    {
     "data": {
      "text/plain": [
       "OCTAVIA          1418\n",
       "5ER              1026\n",
       "LANCER            855\n",
       "E_KLASSE          809\n",
       "PASSAT            782\n",
       "                 ... \n",
       "LAFESTA             1\n",
       "MR_S                1\n",
       "200SX               1\n",
       "Z3M                 1\n",
       "SCEPTER_SEDAN       1\n",
       "Name: model_name, Length: 544, dtype: int64"
      ]
     },
     "execution_count": 84,
     "metadata": {},
     "output_type": "execute_result"
    }
   ],
   "source": [
    "df.model_name.value_counts()"
   ]
  },
  {
   "cell_type": "markdown",
   "metadata": {},
   "source": [
    "### name"
   ]
  },
  {
   "cell_type": "code",
   "execution_count": 85,
   "metadata": {},
   "outputs": [
    {
     "data": {
      "text/plain": [
       "0                        1.2 AMT (105 л.с.)\n",
       "1                         1.6 MT (110 л.с.)\n",
       "2                    DSG 1.8 AMT (152 л.с.)\n",
       "3                         1.6 AT (110 л.с.)\n",
       "4                         1.8 AT (152 л.с.)\n",
       "                        ...                \n",
       "34681                316i 1.6 AT (136 л.с.)\n",
       "34682    520d xDrive 2.0d AT (190 л.с.) 4WD\n",
       "34683                523i 2.5 AT (170 л.с.)\n",
       "34684            20d 2.0d AT (184 л.с.) 4WD\n",
       "34685            30d 3.0d AT (235 л.с.) 4WD\n",
       "Name: name, Length: 34686, dtype: object"
      ]
     },
     "execution_count": 85,
     "metadata": {},
     "output_type": "execute_result"
    }
   ],
   "source": [
    "df.name"
   ]
  },
  {
   "cell_type": "markdown",
   "metadata": {},
   "source": [
    "Это видимо название объявления, оно как-то алгоритмически предопределено, поэтому может стоит из него что-то вытащить, если чего то у нас нету."
   ]
  },
  {
   "cell_type": "markdown",
   "metadata": {},
   "source": [
    "### numberOfDoors"
   ]
  },
  {
   "cell_type": "code",
   "execution_count": 86,
   "metadata": {},
   "outputs": [
    {
     "data": {
      "text/plain": [
       "5    18703\n",
       "4    14126\n",
       "2     1206\n",
       "3      650\n",
       "0        1\n",
       "Name: numberOfDoors, dtype: int64"
      ]
     },
     "execution_count": 86,
     "metadata": {},
     "output_type": "execute_result"
    }
   ],
   "source": [
    "df.numberOfDoors.value_counts()"
   ]
  },
  {
   "cell_type": "markdown",
   "metadata": {},
   "source": [
    "### parcing_unix_date"
   ]
  },
  {
   "cell_type": "code",
   "execution_count": 87,
   "metadata": {},
   "outputs": [
    {
     "data": {
      "text/plain": [
       "<AxesSubplot:>"
      ]
     },
     "execution_count": 87,
     "metadata": {},
     "output_type": "execute_result"
    },
    {
     "data": {
      "image/png": "[encoded data removed]",
      "text/plain": [
       "<Figure size 432x288 with 1 Axes>"
      ]
     },
     "metadata": {
      "needs_background": "light"
     },
     "output_type": "display_data"
    }
   ],
   "source": [
    "df.parsing_unixtime.hist()"
   ]
  },
  {
   "cell_type": "markdown",
   "metadata": {},
   "source": [
    "### priceCurrency"
   ]
  },
  {
   "cell_type": "code",
   "execution_count": 88,
   "metadata": {},
   "outputs": [
    {
     "data": {
      "text/plain": [
       "RUB    34686\n",
       "Name: priceCurrency, dtype: int64"
      ]
     },
     "execution_count": 88,
     "metadata": {},
     "output_type": "execute_result"
    }
   ],
   "source": [
    "df.priceCurrency.value_counts()"
   ]
  },
  {
   "cell_type": "markdown",
   "metadata": {},
   "source": [
    "### productionDate"
   ]
  },
  {
   "cell_type": "code",
   "execution_count": 89,
   "metadata": {},
   "outputs": [
    {
     "data": {
      "text/plain": [
       "<AxesSubplot:>"
      ]
     },
     "execution_count": 89,
     "metadata": {},
     "output_type": "execute_result"
    },
    {
     "data": {
      "image/png": "[encoded data removed]",
      "text/plain": [
       "<Figure size 432x288 with 1 Axes>"
      ]
     },
     "metadata": {
      "needs_background": "light"
     },
     "output_type": "display_data"
    }
   ],
   "source": [
    "df.productionDate.hist()"
   ]
  },
  {
   "cell_type": "markdown",
   "metadata": {},
   "source": [
    "### sell_id"
   ]
  },
  {
   "cell_type": "code",
   "execution_count": 90,
   "metadata": {},
   "outputs": [
    {
     "data": {
      "text/plain": [
       "1101243311    1\n",
       "1101207839    1\n",
       "1101219298    1\n",
       "1101297124    1\n",
       "1101364709    1\n",
       "             ..\n",
       "1099483756    1\n",
       "1101316717    1\n",
       "1101210225    1\n",
       "1101347442    1\n",
       "1092026368    1\n",
       "Name: sell_id, Length: 34686, dtype: int64"
      ]
     },
     "execution_count": 90,
     "metadata": {},
     "output_type": "execute_result"
    }
   ],
   "source": [
    "df.sell_id.value_counts()"
   ]
  },
  {
   "cell_type": "markdown",
   "metadata": {},
   "source": [
    "### vehicleConfiguration"
   ]
  },
  {
   "cell_type": "code",
   "execution_count": 91,
   "metadata": {},
   "outputs": [
    {
     "data": {
      "text/plain": [
       "0                   LIFTBACK ROBOT 1.2\n",
       "1              LIFTBACK MECHANICAL 1.6\n",
       "2                   LIFTBACK ROBOT 1.8\n",
       "3               LIFTBACK AUTOMATIC 1.6\n",
       "4               LIFTBACK AUTOMATIC 1.8\n",
       "                     ...              \n",
       "34681              SEDAN AUTOMATIC 1.6\n",
       "34682              SEDAN AUTOMATIC 2.0\n",
       "34683              SEDAN AUTOMATIC 2.5\n",
       "34684    ALLROAD_5_DOORS AUTOMATIC 2.0\n",
       "34685    ALLROAD_5_DOORS AUTOMATIC 3.0\n",
       "Name: vehicleConfiguration, Length: 34686, dtype: object"
      ]
     },
     "execution_count": 91,
     "metadata": {},
     "output_type": "execute_result"
    }
   ],
   "source": [
    "df.vehicleConfiguration"
   ]
  },
  {
   "cell_type": "markdown",
   "metadata": {},
   "source": [
    "### vehicleTransmission"
   ]
  },
  {
   "cell_type": "code",
   "execution_count": 92,
   "metadata": {},
   "outputs": [
    {
     "data": {
      "text/plain": [
       "автоматическая      19596\n",
       "механическая         7209\n",
       "вариатор             3999\n",
       "роботизированная     3882\n",
       "Name: vehicleTransmission, dtype: int64"
      ]
     },
     "execution_count": 92,
     "metadata": {},
     "output_type": "execute_result"
    }
   ],
   "source": [
    "df.vehicleTransmission.value_counts()"
   ]
  },
  {
   "cell_type": "markdown",
   "metadata": {},
   "source": [
    "Много уникальных значений (75)"
   ]
  },
  {
   "cell_type": "markdown",
   "metadata": {},
   "source": [
    "### vendor"
   ]
  },
  {
   "cell_type": "code",
   "execution_count": 93,
   "metadata": {},
   "outputs": [
    {
     "data": {
      "text/plain": [
       "EUROPEAN    20682\n",
       "JAPANESE    14004\n",
       "Name: vendor, dtype: int64"
      ]
     },
     "execution_count": 93,
     "metadata": {},
     "output_type": "execute_result"
    }
   ],
   "source": [
    "df.vendor.value_counts()"
   ]
  },
  {
   "cell_type": "code",
   "execution_count": null,
   "metadata": {},
   "outputs": [],
   "source": []
  },
  {
   "cell_type": "markdown",
   "metadata": {},
   "source": [
    "### Другое"
   ]
  },
  {
   "cell_type": "code",
   "execution_count": 94,
   "metadata": {},
   "outputs": [
    {
     "data": {
      "text/plain": [
       "передний    15565\n",
       "полный      15020\n",
       "задний       4101\n",
       "Name: Привод, dtype: int64"
      ]
     },
     "execution_count": 94,
     "metadata": {},
     "output_type": "execute_result"
    }
   ],
   "source": [
    "df['Привод'].value_counts()"
   ]
  },
  {
   "cell_type": "code",
   "execution_count": 95,
   "metadata": {},
   "outputs": [
    {
     "data": {
      "text/plain": [
       "Левый     33287\n",
       "Правый     1399\n",
       "Name: Руль, dtype: int64"
      ]
     },
     "execution_count": 95,
     "metadata": {},
     "output_type": "execute_result"
    }
   ],
   "source": [
    "df['Руль'].value_counts()"
   ]
  },
  {
   "cell_type": "code",
   "execution_count": 96,
   "metadata": {},
   "outputs": [
    {
     "data": {
      "text/plain": [
       "Не требует ремонта    34686\n",
       "Name: Состояние, dtype: int64"
      ]
     },
     "execution_count": 96,
     "metadata": {},
     "output_type": "execute_result"
    }
   ],
   "source": [
    "df['Состояние'].value_counts()"
   ]
  },
  {
   "cell_type": "code",
   "execution_count": 97,
   "metadata": {},
   "outputs": [
    {
     "data": {
      "text/plain": [
       "3 или более    15957\n",
       "1 владелец      9459\n",
       "2 владельца     9270\n",
       "Name: Владельцы, dtype: int64"
      ]
     },
     "execution_count": 97,
     "metadata": {},
     "output_type": "execute_result"
    }
   ],
   "source": [
    "df['Владельцы'].value_counts()"
   ]
  },
  {
   "cell_type": "code",
   "execution_count": 98,
   "metadata": {},
   "outputs": [
    {
     "data": {
      "text/plain": [
       "Оригинал    30098\n",
       "Дубликат     4587\n",
       "Name: ПТС, dtype: int64"
      ]
     },
     "execution_count": 98,
     "metadata": {},
     "output_type": "execute_result"
    }
   ],
   "source": [
    "df['ПТС'].value_counts()"
   ]
  },
  {
   "cell_type": "code",
   "execution_count": 99,
   "metadata": {},
   "outputs": [
    {
     "data": {
      "text/plain": [
       "Растаможен    34686\n",
       "Name: Таможня, dtype: int64"
      ]
     },
     "execution_count": 99,
     "metadata": {},
     "output_type": "execute_result"
    }
   ],
   "source": [
    "df['Таможня'].value_counts()"
   ]
  },
  {
   "cell_type": "code",
   "execution_count": 100,
   "metadata": {},
   "outputs": [
    {
     "data": {
      "text/plain": [
       "1 год и 10 месяцев     209\n",
       "2 года                 197\n",
       "1 год                  194\n",
       "1 год и 1 месяц        193\n",
       "1 год и 2 месяца       187\n",
       "                      ... \n",
       "19 лет и 7 месяцев       1\n",
       "15 лет и 8 месяцев       1\n",
       "21 год и 11 месяцев      1\n",
       "18 лет и 10 месяцев      1\n",
       "21 год и 9 месяцев       1\n",
       "Name: Владение, Length: 275, dtype: int64"
      ]
     },
     "execution_count": 100,
     "metadata": {},
     "output_type": "execute_result"
    }
   ],
   "source": [
    "df['Владение'].value_counts()"
   ]
  },
  {
   "cell_type": "markdown",
   "metadata": {},
   "source": [
    "## pandas_profiling "
   ]
  },
  {
   "cell_type": "code",
   "execution_count": 101,
   "metadata": {},
   "outputs": [
    {
     "name": "stdout",
     "output_type": "stream",
     "text": [
      "Requirement already up-to-date: pandas-profiling in c:\\users\\roman\\appdata\\roaming\\python\\python37\\site-packages (2.9.0)\n",
      "Requirement already satisfied, skipping upgrade: joblib in c:\\soft\\anaconda\\lib\\site-packages (from pandas-profiling) (0.14.1)\n",
      "Requirement already satisfied, skipping upgrade: tqdm>=4.43.0 in c:\\users\\roman\\appdata\\roaming\\python\\python37\\site-packages (from pandas-profiling) (4.50.2)\n",
      "Requirement already satisfied, skipping upgrade: scipy>=1.4.1 in c:\\soft\\anaconda\\lib\\site-packages (from pandas-profiling) (1.4.1)\n",
      "Requirement already satisfied, skipping upgrade: visions[type_image_path]==0.5.0 in c:\\users\\roman\\appdata\\roaming\\python\\python37\\site-packages (from pandas-profiling) (0.5.0)\n",
      "Requirement already satisfied, skipping upgrade: tangled-up-in-unicode>=0.0.6 in c:\\users\\roman\\appdata\\roaming\\python\\python37\\site-packages (from pandas-profiling) (0.0.6)\n",
      "Requirement already satisfied, skipping upgrade: htmlmin>=0.1.12 in c:\\users\\roman\\appdata\\roaming\\python\\python37\\site-packages (from pandas-profiling) (0.1.12)\n",
      "Requirement already satisfied, skipping upgrade: requests>=2.23.0 in c:\\users\\roman\\appdata\\roaming\\python\\python37\\site-packages (from pandas-profiling) (2.24.0)\n",
      "Requirement already satisfied, skipping upgrade: numpy>=1.16.0 in c:\\soft\\anaconda\\lib\\site-packages (from pandas-profiling) (1.18.1)\n",
      "Requirement already satisfied, skipping upgrade: confuse>=1.0.0 in c:\\users\\roman\\appdata\\roaming\\python\\python37\\site-packages (from pandas-profiling) (1.3.0)\n",
      "Requirement already satisfied, skipping upgrade: missingno>=0.4.2 in c:\\users\\roman\\appdata\\roaming\\python\\python37\\site-packages (from pandas-profiling) (0.4.2)\n",
      "Requirement already satisfied, skipping upgrade: ipywidgets>=7.5.1 in c:\\soft\\anaconda\\lib\\site-packages (from pandas-profiling) (7.5.1)\n",
      "Requirement already satisfied, skipping upgrade: matplotlib>=3.2.0 in c:\\soft\\anaconda\\lib\\site-packages (from pandas-profiling) (3.3.2)\n",
      "Requirement already satisfied, skipping upgrade: jinja2>=2.11.1 in c:\\soft\\anaconda\\lib\\site-packages (from pandas-profiling) (2.11.1)\n",
      "Requirement already satisfied, skipping upgrade: seaborn>=0.10.1 in c:\\users\\roman\\appdata\\roaming\\python\\python37\\site-packages (from pandas-profiling) (0.11.0)\n",
      "Requirement already satisfied, skipping upgrade: phik>=0.9.10 in c:\\users\\roman\\appdata\\roaming\\python\\python37\\site-packages (from pandas-profiling) (0.10.0)\n",
      "Requirement already satisfied, skipping upgrade: attrs>=19.3.0 in c:\\soft\\anaconda\\lib\\site-packages (from pandas-profiling) (19.3.0)\n",
      "Requirement already satisfied, skipping upgrade: pandas!=1.0.0,!=1.0.1,!=1.0.2,!=1.1.0,>=0.25.3 in c:\\soft\\anaconda\\lib\\site-packages (from pandas-profiling) (1.1.3)\n",
      "Requirement already satisfied, skipping upgrade: networkx>=2.4 in c:\\soft\\anaconda\\lib\\site-packages (from visions[type_image_path]==0.5.0->pandas-profiling) (2.4)\n",
      "Requirement already satisfied, skipping upgrade: Pillow; extra == \"type_image_path\" in c:\\soft\\anaconda\\lib\\site-packages (from visions[type_image_path]==0.5.0->pandas-profiling) (7.0.0)\n",
      "Requirement already satisfied, skipping upgrade: imagehash; extra == \"type_image_path\" in c:\\users\\roman\\appdata\\roaming\\python\\python37\\site-packages (from visions[type_image_path]==0.5.0->pandas-profiling) (4.1.0)\n",
      "Requirement already satisfied, skipping upgrade: chardet<4,>=3.0.2 in c:\\soft\\anaconda\\lib\\site-packages (from requests>=2.23.0->pandas-profiling) (3.0.4)\n",
      "Requirement already satisfied, skipping upgrade: certifi>=2017.4.17 in c:\\soft\\anaconda\\lib\\site-packages (from requests>=2.23.0->pandas-profiling) (2020.6.20)\n",
      "Requirement already satisfied, skipping upgrade: urllib3!=1.25.0,!=1.25.1,<1.26,>=1.21.1 in c:\\soft\\anaconda\\lib\\site-packages (from requests>=2.23.0->pandas-profiling) (1.25.8)\n",
      "Requirement already satisfied, skipping upgrade: idna<3,>=2.5 in c:\\soft\\anaconda\\lib\\site-packages (from requests>=2.23.0->pandas-profiling) (2.8)\n",
      "Requirement already satisfied, skipping upgrade: pyyaml in c:\\soft\\anaconda\\lib\\site-packages (from confuse>=1.0.0->pandas-profiling) (5.3)\n",
      "Requirement already satisfied, skipping upgrade: widgetsnbextension~=3.5.0 in c:\\soft\\anaconda\\lib\\site-packages (from ipywidgets>=7.5.1->pandas-profiling) (3.5.1)\n",
      "Requirement already satisfied, skipping upgrade: ipython>=4.0.0; python_version >= \"3.3\" in c:\\soft\\anaconda\\lib\\site-packages (from ipywidgets>=7.5.1->pandas-profiling) (7.12.0)\n",
      "Requirement already satisfied, skipping upgrade: ipykernel>=4.5.1 in c:\\soft\\anaconda\\lib\\site-packages (from ipywidgets>=7.5.1->pandas-profiling) (5.1.4)\n",
      "Requirement already satisfied, skipping upgrade: nbformat>=4.2.0 in c:\\soft\\anaconda\\lib\\site-packages (from ipywidgets>=7.5.1->pandas-profiling) (5.0.4)\n",
      "Requirement already satisfied, skipping upgrade: traitlets>=4.3.1 in c:\\soft\\anaconda\\lib\\site-packages (from ipywidgets>=7.5.1->pandas-profiling) (4.3.3)\n",
      "Requirement already satisfied, skipping upgrade: pyparsing!=2.0.4,!=2.1.2,!=2.1.6,>=2.0.3 in c:\\soft\\anaconda\\lib\\site-packages (from matplotlib>=3.2.0->pandas-profiling) (2.4.6)\n",
      "Requirement already satisfied, skipping upgrade: python-dateutil>=2.1 in c:\\soft\\anaconda\\lib\\site-packages (from matplotlib>=3.2.0->pandas-profiling) (2.8.1)\n",
      "Requirement already satisfied, skipping upgrade: cycler>=0.10 in c:\\soft\\anaconda\\lib\\site-packages (from matplotlib>=3.2.0->pandas-profiling) (0.10.0)\n",
      "Requirement already satisfied, skipping upgrade: kiwisolver>=1.0.1 in c:\\soft\\anaconda\\lib\\site-packages (from matplotlib>=3.2.0->pandas-profiling) (1.1.0)\n",
      "Requirement already satisfied, skipping upgrade: MarkupSafe>=0.23 in c:\\soft\\anaconda\\lib\\site-packages (from jinja2>=2.11.1->pandas-profiling) (1.1.1)\n",
      "Requirement already satisfied, skipping upgrade: numba>=0.38.1 in c:\\soft\\anaconda\\lib\\site-packages (from phik>=0.9.10->pandas-profiling) (0.48.0)\n",
      "Requirement already satisfied, skipping upgrade: pytz>=2017.2 in c:\\soft\\anaconda\\lib\\site-packages (from pandas!=1.0.0,!=1.0.1,!=1.0.2,!=1.1.0,>=0.25.3->pandas-profiling) (2019.3)\n",
      "Requirement already satisfied, skipping upgrade: decorator>=4.3.0 in c:\\soft\\anaconda\\lib\\site-packages (from networkx>=2.4->visions[type_image_path]==0.5.0->pandas-profiling) (4.4.1)\n",
      "Requirement already satisfied, skipping upgrade: PyWavelets in c:\\soft\\anaconda\\lib\\site-packages (from imagehash; extra == \"type_image_path\"->visions[type_image_path]==0.5.0->pandas-profiling) (1.1.1)\n",
      "Requirement already satisfied, skipping upgrade: six in c:\\soft\\anaconda\\lib\\site-packages (from imagehash; extra == \"type_image_path\"->visions[type_image_path]==0.5.0->pandas-profiling) (1.14.0)\n",
      "Requirement already satisfied, skipping upgrade: notebook>=4.4.1 in c:\\soft\\anaconda\\lib\\site-packages (from widgetsnbextension~=3.5.0->ipywidgets>=7.5.1->pandas-profiling) (6.0.3)\n",
      "Requirement already satisfied, skipping upgrade: backcall in c:\\soft\\anaconda\\lib\\site-packages (from ipython>=4.0.0; python_version >= \"3.3\"->ipywidgets>=7.5.1->pandas-profiling) (0.1.0)\n",
      "Requirement already satisfied, skipping upgrade: setuptools>=18.5 in c:\\soft\\anaconda\\lib\\site-packages (from ipython>=4.0.0; python_version >= \"3.3\"->ipywidgets>=7.5.1->pandas-profiling) (45.2.0.post20200210)\n",
      "Requirement already satisfied, skipping upgrade: pygments in c:\\soft\\anaconda\\lib\\site-packages (from ipython>=4.0.0; python_version >= \"3.3\"->ipywidgets>=7.5.1->pandas-profiling) (2.5.2)\n",
      "Requirement already satisfied, skipping upgrade: pickleshare in c:\\soft\\anaconda\\lib\\site-packages (from ipython>=4.0.0; python_version >= \"3.3\"->ipywidgets>=7.5.1->pandas-profiling) (0.7.5)\n",
      "Requirement already satisfied, skipping upgrade: colorama; sys_platform == \"win32\" in c:\\soft\\anaconda\\lib\\site-packages (from ipython>=4.0.0; python_version >= \"3.3\"->ipywidgets>=7.5.1->pandas-profiling) (0.4.3)\n",
      "Requirement already satisfied, skipping upgrade: jedi>=0.10 in c:\\soft\\anaconda\\lib\\site-packages (from ipython>=4.0.0; python_version >= \"3.3\"->ipywidgets>=7.5.1->pandas-profiling) (0.14.1)\n",
      "Requirement already satisfied, skipping upgrade: prompt-toolkit!=3.0.0,!=3.0.1,<3.1.0,>=2.0.0 in c:\\soft\\anaconda\\lib\\site-packages (from ipython>=4.0.0; python_version >= \"3.3\"->ipywidgets>=7.5.1->pandas-profiling) (3.0.3)\n",
      "Requirement already satisfied, skipping upgrade: tornado>=4.2 in c:\\soft\\anaconda\\lib\\site-packages (from ipykernel>=4.5.1->ipywidgets>=7.5.1->pandas-profiling) (6.0.3)\n",
      "Requirement already satisfied, skipping upgrade: jupyter-client in c:\\soft\\anaconda\\lib\\site-packages (from ipykernel>=4.5.1->ipywidgets>=7.5.1->pandas-profiling) (5.3.4)\n",
      "Requirement already satisfied, skipping upgrade: ipython-genutils in c:\\soft\\anaconda\\lib\\site-packages (from nbformat>=4.2.0->ipywidgets>=7.5.1->pandas-profiling) (0.2.0)\n",
      "Requirement already satisfied, skipping upgrade: jsonschema!=2.5.0,>=2.4 in c:\\soft\\anaconda\\lib\\site-packages (from nbformat>=4.2.0->ipywidgets>=7.5.1->pandas-profiling) (3.2.0)\n",
      "Requirement already satisfied, skipping upgrade: jupyter-core in c:\\soft\\anaconda\\lib\\site-packages (from nbformat>=4.2.0->ipywidgets>=7.5.1->pandas-profiling) (4.6.1)\n",
      "Requirement already satisfied, skipping upgrade: llvmlite<0.32.0,>=0.31.0dev0 in c:\\soft\\anaconda\\lib\\site-packages (from numba>=0.38.1->phik>=0.9.10->pandas-profiling) (0.31.0)\n",
      "Requirement already satisfied, skipping upgrade: pyzmq>=17 in c:\\soft\\anaconda\\lib\\site-packages (from notebook>=4.4.1->widgetsnbextension~=3.5.0->ipywidgets>=7.5.1->pandas-profiling) (18.1.1)\n",
      "Requirement already satisfied, skipping upgrade: Send2Trash in c:\\soft\\anaconda\\lib\\site-packages (from notebook>=4.4.1->widgetsnbextension~=3.5.0->ipywidgets>=7.5.1->pandas-profiling) (1.5.0)\n",
      "Requirement already satisfied, skipping upgrade: terminado>=0.8.1 in c:\\soft\\anaconda\\lib\\site-packages (from notebook>=4.4.1->widgetsnbextension~=3.5.0->ipywidgets>=7.5.1->pandas-profiling) (0.8.3)\n",
      "Requirement already satisfied, skipping upgrade: prometheus-client in c:\\soft\\anaconda\\lib\\site-packages (from notebook>=4.4.1->widgetsnbextension~=3.5.0->ipywidgets>=7.5.1->pandas-profiling) (0.7.1)\n",
      "Requirement already satisfied, skipping upgrade: nbconvert in c:\\soft\\anaconda\\lib\\site-packages (from notebook>=4.4.1->widgetsnbextension~=3.5.0->ipywidgets>=7.5.1->pandas-profiling) (5.6.1)\n",
      "Requirement already satisfied, skipping upgrade: parso>=0.5.0 in c:\\soft\\anaconda\\lib\\site-packages (from jedi>=0.10->ipython>=4.0.0; python_version >= \"3.3\"->ipywidgets>=7.5.1->pandas-profiling) (0.5.2)\n",
      "Requirement already satisfied, skipping upgrade: wcwidth in c:\\soft\\anaconda\\lib\\site-packages (from prompt-toolkit!=3.0.0,!=3.0.1,<3.1.0,>=2.0.0->ipython>=4.0.0; python_version >= \"3.3\"->ipywidgets>=7.5.1->pandas-profiling) (0.1.8)\n",
      "Requirement already satisfied, skipping upgrade: pywin32>=1.0; sys_platform == \"win32\" in c:\\soft\\anaconda\\lib\\site-packages (from jupyter-client->ipykernel>=4.5.1->ipywidgets>=7.5.1->pandas-profiling) (227)\n",
      "Requirement already satisfied, skipping upgrade: importlib-metadata; python_version < \"3.8\" in c:\\soft\\anaconda\\lib\\site-packages (from jsonschema!=2.5.0,>=2.4->nbformat>=4.2.0->ipywidgets>=7.5.1->pandas-profiling) (1.5.0)\n",
      "Requirement already satisfied, skipping upgrade: pyrsistent>=0.14.0 in c:\\soft\\anaconda\\lib\\site-packages (from jsonschema!=2.5.0,>=2.4->nbformat>=4.2.0->ipywidgets>=7.5.1->pandas-profiling) (0.15.7)\n",
      "Requirement already satisfied, skipping upgrade: testpath in c:\\soft\\anaconda\\lib\\site-packages (from nbconvert->notebook>=4.4.1->widgetsnbextension~=3.5.0->ipywidgets>=7.5.1->pandas-profiling) (0.4.4)\n",
      "Requirement already satisfied, skipping upgrade: entrypoints>=0.2.2 in c:\\soft\\anaconda\\lib\\site-packages (from nbconvert->notebook>=4.4.1->widgetsnbextension~=3.5.0->ipywidgets>=7.5.1->pandas-profiling) (0.3)\n",
      "Requirement already satisfied, skipping upgrade: mistune<2,>=0.8.1 in c:\\soft\\anaconda\\lib\\site-packages (from nbconvert->notebook>=4.4.1->widgetsnbextension~=3.5.0->ipywidgets>=7.5.1->pandas-profiling) (0.8.4)\n",
      "Requirement already satisfied, skipping upgrade: defusedxml in c:\\soft\\anaconda\\lib\\site-packages (from nbconvert->notebook>=4.4.1->widgetsnbextension~=3.5.0->ipywidgets>=7.5.1->pandas-profiling) (0.6.0)\n",
      "Requirement already satisfied, skipping upgrade: bleach in c:\\soft\\anaconda\\lib\\site-packages (from nbconvert->notebook>=4.4.1->widgetsnbextension~=3.5.0->ipywidgets>=7.5.1->pandas-profiling) (3.1.0)\n",
      "Requirement already satisfied, skipping upgrade: pandocfilters>=1.4.1 in c:\\soft\\anaconda\\lib\\site-packages (from nbconvert->notebook>=4.4.1->widgetsnbextension~=3.5.0->ipywidgets>=7.5.1->pandas-profiling) (1.4.2)\n",
      "Requirement already satisfied, skipping upgrade: zipp>=0.5 in c:\\soft\\anaconda\\lib\\site-packages (from importlib-metadata; python_version < \"3.8\"->jsonschema!=2.5.0,>=2.4->nbformat>=4.2.0->ipywidgets>=7.5.1->pandas-profiling) (2.2.0)\n",
      "Requirement already satisfied, skipping upgrade: webencodings in c:\\soft\\anaconda\\lib\\site-packages (from bleach->nbconvert->notebook>=4.4.1->widgetsnbextension~=3.5.0->ipywidgets>=7.5.1->pandas-profiling) (0.5.1)\n"
     ]
    }
   ],
   "source": [
    "!pip install pandas-profiling --upgrade --user"
   ]
  },
  {
   "cell_type": "code",
   "execution_count": 102,
   "metadata": {},
   "outputs": [
    {
     "data": {
      "text/plain": [
       "'2.9.0'"
      ]
     },
     "execution_count": 102,
     "metadata": {},
     "output_type": "execute_result"
    }
   ],
   "source": [
    "pandas_profiling.__version__"
   ]
  },
  {
   "cell_type": "code",
   "execution_count": 103,
   "metadata": {},
   "outputs": [],
   "source": [
    "#df.profile_report()"
   ]
  },
  {
   "cell_type": "markdown",
   "metadata": {},
   "source": [
    "## поля с помощью которых можно добавлять новые признаки, но сами по себе они бесмыслены"
   ]
  },
  {
   "cell_type": "markdown",
   "metadata": {},
   "source": [
    "### complectation_dict"
   ]
  },
  {
   "cell_type": "code",
   "execution_count": 2,
   "metadata": {},
   "outputs": [
    {
     "ename": "NameError",
     "evalue": "name 'df' is not defined",
     "output_type": "error",
     "traceback": [
      "\u001b[1;31m---------------------------------------------------------------------------\u001b[0m",
      "\u001b[1;31mNameError\u001b[0m                                 Traceback (most recent call last)",
      "\u001b[1;32m<ipython-input-2-7ccd15cb4481>\u001b[0m in \u001b[0;36m<module>\u001b[1;34m\u001b[0m\n\u001b[1;32m----> 1\u001b[1;33m \u001b[0mdf\u001b[0m\u001b[1;33m.\u001b[0m\u001b[0mcomplectation_dict\u001b[0m\u001b[1;33m\u001b[0m\u001b[1;33m\u001b[0m\u001b[0m\n\u001b[0m",
      "\u001b[1;31mNameError\u001b[0m: name 'df' is not defined"
     ]
    }
   ],
   "source": [
    "df.complectation_dict"
   ]
  },
  {
   "cell_type": "markdown",
   "metadata": {},
   "source": [
    "### description"
   ]
  },
  {
   "cell_type": "code",
   "execution_count": 105,
   "metadata": {},
   "outputs": [
    {
     "data": {
      "text/plain": [
       "0        Все автомобили, представленные в продаже, прох...\n",
       "1        ЛОТ: 01217195\\nАвтопрага Север\\nДанный автомоб...\n",
       "2        Все автомобили, представленные в продаже, прох...\n",
       "3        КОМПЛЕКТ ЗИМНЕЙ (ЛЕТНЕЙ) РЕЗИНЫ ПО СЕЗОНУ В ПО...\n",
       "4        ЛОТ: 01220889\\nАвтопрага Север\\n\\nВы можете по...\n",
       "                               ...                        \n",
       "34681    Продается BMW 316i в отличном состоянии. Прода...\n",
       "34682                       Продаётся отличный автомобиль.\n",
       "34683                                    Хорошее состояние\n",
       "34684    Автомобиль в идеальном состоянии . Куплен новы...\n",
       "34685     Пробег реальный, состояние отличное! Авторска...\n",
       "Name: description, Length: 34686, dtype: object"
      ]
     },
     "execution_count": 105,
     "metadata": {},
     "output_type": "execute_result"
    }
   ],
   "source": [
    "df.description"
   ]
  },
  {
   "cell_type": "markdown",
   "metadata": {},
   "source": [
    "### equipment_dict"
   ]
  },
  {
   "cell_type": "code",
   "execution_count": 106,
   "metadata": {},
   "outputs": [
    {
     "data": {
      "text/plain": [
       "0        {\"engine-proof\":true,\"tinted-glass\":true,\"airb...\n",
       "1        {\"cruise-control\":true,\"asr\":true,\"esp\":true,\"...\n",
       "2        {\"cruise-control\":true,\"tinted-glass\":true,\"es...\n",
       "3        {\"cruise-control\":true,\"roller-blind-for-rear-...\n",
       "4        {\"cruise-control\":true,\"asr\":true,\"esp\":true,\"...\n",
       "                               ...                        \n",
       "34681    {\"cruise-control\":true,\"asr\":true,\"tinted-glas...\n",
       "34682                                                  NaN\n",
       "34683                                                  NaN\n",
       "34684    {\"engine-proof\":true,\"esp\":true,\"start-stop-fu...\n",
       "34685    {\"alloy-wheel-disks\":true,\"navigation\":true,\"p...\n",
       "Name: equipment_dict, Length: 34686, dtype: object"
      ]
     },
     "execution_count": 106,
     "metadata": {},
     "output_type": "execute_result"
    }
   ],
   "source": [
    "df.equipment_dict"
   ]
  },
  {
   "cell_type": "markdown",
   "metadata": {},
   "source": [
    "### model_info"
   ]
  },
  {
   "cell_type": "code",
   "execution_count": 107,
   "metadata": {},
   "outputs": [
    {
     "data": {
      "text/plain": [
       "0        {\"code\":\"OCTAVIA\",\"name\":\"Octavia\",\"ru_name\":\"...\n",
       "1        {\"code\":\"OCTAVIA\",\"name\":\"Octavia\",\"ru_name\":\"...\n",
       "2        {\"code\":\"SUPERB\",\"name\":\"Superb\",\"ru_name\":\"Су...\n",
       "3        {\"code\":\"OCTAVIA\",\"name\":\"Octavia\",\"ru_name\":\"...\n",
       "4        {\"code\":\"OCTAVIA\",\"name\":\"Octavia\",\"ru_name\":\"...\n",
       "                               ...                        \n",
       "34681    {\"code\":\"3ER\",\"name\":\"3 серии\",\"ru_name\":\"3 се...\n",
       "34682    {\"code\":\"5ER\",\"name\":\"5 серии\",\"ru_name\":\"5 се...\n",
       "34683    {\"code\":\"5ER\",\"name\":\"5 серии\",\"ru_name\":\"5 се...\n",
       "34684    {\"code\":\"X1\",\"name\":\"X1\",\"ru_name\":\"Х1\",\"morph...\n",
       "34685    {\"code\":\"X5\",\"name\":\"X5\",\"ru_name\":\"Х5\",\"morph...\n",
       "Name: model_info, Length: 34686, dtype: object"
      ]
     },
     "execution_count": 107,
     "metadata": {},
     "output_type": "execute_result"
    }
   ],
   "source": [
    "df.model_info"
   ]
  },
  {
   "cell_type": "markdown",
   "metadata": {},
   "source": [
    "### super_gen"
   ]
  },
  {
   "cell_type": "code",
   "execution_count": 108,
   "metadata": {},
   "outputs": [
    {
     "data": {
      "text/plain": [
       "0        {\"id\":\"10373605\",\"displacement\":1197,\"engine_t...\n",
       "1        {\"id\":\"20913311\",\"displacement\":1598,\"engine_t...\n",
       "2        {\"id\":\"20026323\",\"nameplate\":\"DSG\",\"displaceme...\n",
       "3        {\"id\":\"20105521\",\"displacement\":1598,\"engine_t...\n",
       "4        {\"id\":\"4561004\",\"displacement\":1798,\"engine_ty...\n",
       "                               ...                        \n",
       "34681    {\"id\":\"8546464\",\"name\":\"316\",\"nameplate\":\"316i...\n",
       "34682    {\"id\":\"20856402\",\"name\":\"520\",\"nameplate\":\"520...\n",
       "34683    {\"id\":\"6329747\",\"name\":\"523\",\"nameplate\":\"523i...\n",
       "34684    {\"id\":\"8247004\",\"name\":\"20d\",\"nameplate\":\"20d\"...\n",
       "34685    {\"id\":\"20390090\",\"name\":\"30d\",\"nameplate\":\"30d...\n",
       "Name: super_gen, Length: 34686, dtype: object"
      ]
     },
     "execution_count": 108,
     "metadata": {},
     "output_type": "execute_result"
    }
   ],
   "source": [
    "df.super_gen"
   ]
  },
  {
   "cell_type": "code",
   "execution_count": null,
   "metadata": {},
   "outputs": [],
   "source": []
  },
  {
   "cell_type": "code",
   "execution_count": null,
   "metadata": {},
   "outputs": [],
   "source": []
  },
  {
   "cell_type": "code",
   "execution_count": 6,
   "metadata": {},
   "outputs": [],
   "source": [
    "df = pd.read_csv('train_3.csv')"
   ]
  },
  {
   "cell_type": "code",
   "execution_count": 8,
   "metadata": {},
   "outputs": [
    {
     "data": {
      "text/plain": [
       "0                                            {'id': '0'}\n",
       "1      {'id': '21402377', 'name': '330i M Sport', 'av...\n",
       "2      {'id': '21038595', 'name': '730i', 'available_...\n",
       "3      {'id': '22364289', 'name': 'M5 Competition', '...\n",
       "4      {'id': '21074267', 'name': 'xDrive30d Luxury',...\n",
       "                             ...                        \n",
       "106                                          {'id': '0'}\n",
       "107                                          {'id': '0'}\n",
       "108                                          {'id': '0'}\n",
       "109    {'id': '21761056', 'name': 'xDrive30d M Sport ...\n",
       "110                                          {'id': '0'}\n",
       "Name: complectation_dict, Length: 111, dtype: object"
      ]
     },
     "execution_count": 8,
     "metadata": {},
     "output_type": "execute_result"
    }
   ],
   "source": [
    "df.complectation_dict"
   ]
  },
  {
   "cell_type": "code",
   "execution_count": null,
   "metadata": {},
   "outputs": [],
   "source": []
  }
 ],
 "metadata": {
  "kernelspec": {
   "display_name": "Python 3",
   "language": "python",
   "name": "python3"
  },
  "language_info": {
   "codemirror_mode": {
    "name": "ipython",
    "version": 3
   },
   "file_extension": ".py",
   "mimetype": "text/x-python",
   "name": "python",
   "nbconvert_exporter": "python",
   "pygments_lexer": "ipython3",
   "version": "3.7.6"
  },
  "toc": {
   "base_numbering": 1,
   "nav_menu": {},
   "number_sections": true,
   "sideBar": true,
   "skip_h1_title": false,
   "title_cell": "Table of Contents",
   "title_sidebar": "Contents",
   "toc_cell": false,
   "toc_position": {},
   "toc_section_display": true,
   "toc_window_display": false
  },
  "varInspector": {
   "cols": {
    "lenName": 16,
    "lenType": 16,
    "lenVar": 40
   },
   "kernels_config": {
    "python": {
     "delete_cmd_postfix": "",
     "delete_cmd_prefix": "del ",
     "library": "var_list.py",
     "varRefreshCmd": "print(var_dic_list())"
    },
    "r": {
     "delete_cmd_postfix": ") ",
     "delete_cmd_prefix": "rm(",
     "library": "var_list.r",
     "varRefreshCmd": "cat(var_dic_list()) "
    }
   },
   "types_to_exclude": [
    "module",
    "function",
    "builtin_function_or_method",
    "instance",
    "_Feature"
   ],
   "window_display": false
  }
 },
 "nbformat": 4,
 "nbformat_minor": 4
}
